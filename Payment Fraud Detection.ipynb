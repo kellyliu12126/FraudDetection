{
 "cells": [
  {
   "cell_type": "markdown",
   "metadata": {},
   "source": [
    "# Online Payment Fraud   👩🏻‍✈️   🚨  🧟‍♂️ \n",
    "\n",
    "#### Background: \n",
    "Online payment fraudulent transaction are imperceptibly concealed. Fraudsters often come up with new methods to steal customer or company sensitive data through email, messaging, rerouting traffic to fraudulent websites, or phone calls, etc. After collecting these data, they can easily fake their identity, which we may think they are just normal subjects in the system. Thus, to discover the patterns behind these fraudulent transaction can be challenge. \n",
    "\n",
    "#### Task:\n",
    "In this assessment, we use the online payment transaction dataset.\n",
    "\n",
    "We have total 594,643 transactions and background information about 4,112 customers and 50 merchants over **180 num of time (unit unknown)** in data. Total 9 categorical features and 2 numerical features. \n",
    "\n",
    "This is a supervised learning (classification) problem, which the **target feature 'fruad'** is provided.\n",
    "\n",
    "🎯 In order to minimize the loss for Ant Financial, its customers and involved merchants on the platform, we aim at predicting and detecting all potential fraud transactions by following processes. \n",
    "\n",
    "#### Overall Parts:\n",
    "- **section 1 👩🏼‍💻 : ** Exploratory Data Analysis\n",
    "- **section 2 👨🏻‍🔧 : ** Feature Engineering (including Node Embedding)\n",
    "- **section 3 👩🏻‍🔬 : ** Fraud Detection Model Building & Evaluating\n",
    "\n",
    "🚀 Ok, so let's start!"
   ]
  },
  {
   "cell_type": "code",
   "execution_count": 1,
   "metadata": {
    "collapsed": true
   },
   "outputs": [],
   "source": [
    "import pandas as pd\n",
    "import numpy as np\n",
    "import matplotlib.pyplot as plt\n",
    "%matplotlib inline\n",
    "import seaborn as sns\n",
    "\n",
    "# read the transaction data \n",
    "train = pd.read_csv('data_train.csv')\n",
    "test = pd.read_csv('data_test.csv')\n",
    "\n",
    "#train.shape   (296508, 11) with target 'fraud'\n",
    "#test.shape    (298135, 10) without target 'fraud'\n",
    "\n",
    "# merge train and test for feature engineering purpose \n",
    "df = pd.concat([train,test]) \n",
    "\n",
    "#df.shape      (594643, 11)"
   ]
  },
  {
   "cell_type": "markdown",
   "metadata": {},
   "source": [
    "# 1.  👩🏼‍💻 Exploratory Data Analysis \n",
    "In this section, we check the correlation/relation between features.\n",
    "\n",
    "### Summary key Insight: \n",
    "1. This is a heavily imbalanced data. (Need **resampling method**)\n",
    "2. We claim that fraud class vs non_fraud class have different patterns.\n",
    "3. Since the fraud ratio of different features are mostly in **wide range (w/ high std)**, there are many possibilities of fraud patterns targeting diverse backgrounds' customers or merchants. The fraud patterns are hard to observe directly.\n",
    "4. Feature **'amount'💰** has relatively stronger influence on target feature 'fraud'. \n",
    "5. Fraudulent transactions are mostly involved with **high-value transactions 💸 ** (w/ high std)\n",
    "6. We assume that fraud is **time independent**."
   ]
  },
  {
   "cell_type": "markdown",
   "metadata": {},
   "source": [
    "#### Data Description "
   ]
  },
  {
   "cell_type": "code",
   "execution_count": 14,
   "metadata": {},
   "outputs": [
    {
     "data": {
      "text/plain": [
       "False"
      ]
     },
     "execution_count": 14,
     "metadata": {},
     "output_type": "execute_result"
    }
   ],
   "source": [
    "train.isnull().values.any()\n",
    "test.isnull().values.any()\n",
    "# Great! There are no null values in train & test set so we don't need to do data cleaning."
   ]
  },
  {
   "cell_type": "code",
   "execution_count": 2,
   "metadata": {},
   "outputs": [
    {
     "name": "stdout",
     "output_type": "stream",
     "text": [
      "<class 'pandas.core.frame.DataFrame'>\n",
      "Int64Index: 594643 entries, 0 to 298134\n",
      "Data columns (total 11 columns):\n",
      "age_group           594643 non-null object\n",
      "amount              594643 non-null float64\n",
      "customer_id         594643 non-null object\n",
      "fraud               296508 non-null float64\n",
      "gender              594643 non-null object\n",
      "id                  594643 non-null int64\n",
      "merchant_id         594643 non-null object\n",
      "time                594643 non-null int64\n",
      "type                594643 non-null object\n",
      "zipcode_customer    594643 non-null object\n",
      "zipcode_merchant    594643 non-null object\n",
      "dtypes: float64(2), int64(2), object(7)\n",
      "memory usage: 54.4+ MB\n"
     ]
    }
   ],
   "source": [
    "df.info()"
   ]
  },
  {
   "cell_type": "code",
   "execution_count": 3,
   "metadata": {},
   "outputs": [
    {
     "data": {
      "text/plain": [
       "zipcode_customer         1\n",
       "zipcode_merchant         1\n",
       "fraud                    2\n",
       "gender                   4\n",
       "age_group                8\n",
       "type                    15\n",
       "merchant_id             50\n",
       "time                   180\n",
       "customer_id           4112\n",
       "amount               23772\n",
       "id                  298135\n",
       "dtype: int64"
      ]
     },
     "execution_count": 3,
     "metadata": {},
     "output_type": "execute_result"
    }
   ],
   "source": [
    "df.nunique().sort_values()"
   ]
  },
  {
   "cell_type": "markdown",
   "metadata": {},
   "source": [
    "#### Categorical Features w/ count\n",
    "- age_group:\n",
    "\n",
    "    - '2'    187310 (31.4% of transactions in df are from this age group )\n",
    "    - '3'    147131 (24.7% ...)\n",
    "    - '4'    109025\n",
    "    - '5'     62642\n",
    "    - '1'     58131\n",
    "    - '6'     26774\n",
    "    - '0'      2452\n",
    "    - 'U'      1178\n",
    "\n",
    "\n",
    "- gender: \n",
    "  - 'F': 324565 (54.5 % of transactions in df are from this age group )\n",
    "  - 'M': 268385 (45.1 % ...)\n",
    "  - 'E': 1178\n",
    "  - 'U':515\n",
    "\n",
    "\n",
    "- zipcode_customer: \n",
    "  - '28007'\n",
    "\n",
    "\n",
    "- zipcode_merchant: \n",
    "  - '28007'\n",
    "\n",
    "\n",
    "- type: \n",
    "\n",
    "   - 'es_transportation'        505119  (85% of transactions in df are from this type)\n",
    "   - 'es_food'                   26254  (4.4% ...)\n",
    "   - 'es_health'                 16133\n",
    "   - 'es_wellnessandbeauty'      15086\n",
    "   - 'es_fashion'                 6454\n",
    "   - 'es_barsandrestaurants'      6373\n",
    "   - 'es_hyper'                   6098\n",
    "   - 'es_sportsandtoys'           4002\n",
    "   - 'es_tech'                    2370\n",
    "   - 'es_home'                    1986\n",
    "   - 'es_hotelservices'           1744\n",
    "   - 'es_otherservices'            912\n",
    "   - 'es_contents'                 885\n",
    "   - 'es_travel'                   728\n",
    "   - 'es_leisure'                  499\n",
    "\n",
    "\n",
    "- fraud (label) :  **only for train set**\n",
    "  - 0.0 : 293052 (98.8% of transactions in train set are non fraud)\n",
    "  - 1.0 : 3456   (1.2% ...) \n",
    "  \n",
    "  \n",
    "- customer_id 4112 \n",
    "- merchant_id 50\n",
    "- id (uniqe) 594643\n",
    "\n",
    "#### Numerical Features\n",
    "- time 0 ~ 179 \n",
    "- amount 💰"
   ]
  },
  {
   "cell_type": "markdown",
   "metadata": {},
   "source": [
    "#### check ratio of fraud to non-fraud transactions in train set"
   ]
  },
  {
   "cell_type": "code",
   "execution_count": 25,
   "metadata": {},
   "outputs": [
    {
     "name": "stdout",
     "output_type": "stream",
     "text": [
      "293052 non-fraudulent transactions (98.8%) & 3456 fraudulent transactions (1.2%).\n"
     ]
    },
    {
     "data": {
      "text/plain": [
       "0.0    293052\n",
       "1.0      3456\n",
       "Name: fraud, dtype: int64"
      ]
     },
     "execution_count": 25,
     "metadata": {},
     "output_type": "execute_result"
    },
    {
     "data": {
      "image/png": "[encoded data removed]",
      "text/plain": [
       "<matplotlib.figure.Figure at 0x1226f4f28>"
      ]
     },
     "metadata": {},
     "output_type": "display_data"
    }
   ],
   "source": [
    "counts = train.fraud.value_counts()\n",
    "nonfraud = counts[0]\n",
    "isfraud = counts[1]\n",
    "ratio_nonfraud = (nonfraud / (nonfraud + isfraud))*100\n",
    "ratio_isfraud = (isfraud /(nonfraud + isfraud))*100\n",
    "print('{} non-fraudulent transactions ({:.1f}%) & {} fraudulent transactions ({:.1f}%).'\n",
    "      .format(nonfraud, ratio_nonfraud, isfraud , ratio_isfraud ))\n",
    "\n",
    "# Visualizing \n",
    "pd.value_counts(df.fraud).plot.bar()\n",
    "plt.title('Fraud vs Non Fraud histogram')\n",
    "plt.xlabel('Class')\n",
    "plt.ylabel('Frequency')\n",
    "df.fraud.value_counts()"
   ]
  },
  {
   "cell_type": "markdown",
   "metadata": {},
   "source": [
    "This is a heavily imbalanced data. In section 3, we will use ** resampling method** on train set to detect fraudulent transactions more accurately ! "
   ]
  },
  {
   "cell_type": "markdown",
   "metadata": {},
   "source": [
    "#### relationship between numerical variables and target variable "
   ]
  },
  {
   "cell_type": "code",
   "execution_count": 104,
   "metadata": {},
   "outputs": [
    {
     "data": {
      "text/html": [
       "<div>\n",
       "<style>\n",
       "    .dataframe thead tr:only-child th {\n",
       "        text-align: right;\n",
       "    }\n",
       "\n",
       "    .dataframe thead th {\n",
       "        text-align: left;\n",
       "    }\n",
       "\n",
       "    .dataframe tbody tr th {\n",
       "        vertical-align: top;\n",
       "    }\n",
       "</style>\n",
       "<table border=\"1\" class=\"dataframe\">\n",
       "  <thead>\n",
       "    <tr style=\"text-align: right;\">\n",
       "      <th></th>\n",
       "      <th>amount</th>\n",
       "      <th>fraud</th>\n",
       "      <th>id</th>\n",
       "      <th>time</th>\n",
       "    </tr>\n",
       "  </thead>\n",
       "  <tbody>\n",
       "    <tr>\n",
       "      <th>amount</th>\n",
       "      <td>1.000000</td>\n",
       "      <td>0.488978</td>\n",
       "      <td>-0.001362</td>\n",
       "      <td>-0.007956</td>\n",
       "    </tr>\n",
       "    <tr>\n",
       "      <th>fraud</th>\n",
       "      <td>0.488978</td>\n",
       "      <td>1.000000</td>\n",
       "      <td>-0.000028</td>\n",
       "      <td>-0.008353</td>\n",
       "    </tr>\n",
       "    <tr>\n",
       "      <th>id</th>\n",
       "      <td>-0.001362</td>\n",
       "      <td>-0.000028</td>\n",
       "      <td>1.000000</td>\n",
       "      <td>0.001272</td>\n",
       "    </tr>\n",
       "    <tr>\n",
       "      <th>time</th>\n",
       "      <td>-0.007956</td>\n",
       "      <td>-0.008353</td>\n",
       "      <td>0.001272</td>\n",
       "      <td>1.000000</td>\n",
       "    </tr>\n",
       "  </tbody>\n",
       "</table>\n",
       "</div>"
      ],
      "text/plain": [
       "          amount     fraud        id      time\n",
       "amount  1.000000  0.488978 -0.001362 -0.007956\n",
       "fraud   0.488978  1.000000 -0.000028 -0.008353\n",
       "id     -0.001362 -0.000028  1.000000  0.001272\n",
       "time   -0.007956 -0.008353  0.001272  1.000000"
      ]
     },
     "execution_count": 104,
     "metadata": {},
     "output_type": "execute_result"
    }
   ],
   "source": [
    "corr = df.corr()\n",
    "corr "
   ]
  },
  {
   "cell_type": "code",
   "execution_count": 507,
   "metadata": {},
   "outputs": [
    {
     "data": {
      "text/plain": [
       "<matplotlib.text.Text at 0x1a0245ac8>"
      ]
     },
     "execution_count": 507,
     "metadata": {},
     "output_type": "execute_result"
    },
    {
     "data": {
      "image/png": "[encoded data removed]",
      "text/plain": [
       "<matplotlib.figure.Figure at 0x1a01e4f98>"
      ]
     },
     "metadata": {},
     "output_type": "display_data"
    }
   ],
   "source": [
    "#heatmap to visualize the correlation between features \n",
    "corr = df.corr()\n",
    "plt.figure(figsize=(12,10))\n",
    "heat = sns.heatmap(data=corr)\n",
    "plt.title('Heatmap of Correlation')"
   ]
  },
  {
   "cell_type": "markdown",
   "metadata": {},
   "source": [
    "The strongest correlation is between 'fraud' and 'amount' features (0.49)."
   ]
  },
  {
   "cell_type": "code",
   "execution_count": 115,
   "metadata": {},
   "outputs": [
    {
     "name": "stdout",
     "output_type": "stream",
     "text": [
      "count    293052.000000\n",
      "mean         31.737868\n",
      "std          31.492320\n",
      "min         -10.000000\n",
      "25%          13.580000\n",
      "50%          26.550000\n",
      "75%          41.760000\n",
      "max        1993.680000\n",
      "Name: amount, dtype: float64\n",
      "count    3456.000000\n",
      "mean      538.237266\n",
      "std       850.297893\n",
      "min         0.110000\n",
      "25%       158.882500\n",
      "50%       319.685000\n",
      "75%       551.980000\n",
      "max      7635.410000\n",
      "Name: amount, dtype: float64\n"
     ]
    }
   ],
   "source": [
    "# split train set into non fraud df & fraud df\n",
    "nonfrauddf =  df.loc[df.fraud == 0]\n",
    "frauddf = df.loc[df.fraud == 1]\n",
    "\n",
    "# summary statistics of non fraud  & fraud amount to check the difference\n",
    "print(nonfrauddf.amount.describe())\n",
    "print(frauddf.amount.describe())"
   ]
  },
  {
   "cell_type": "code",
   "execution_count": 68,
   "metadata": {},
   "outputs": [
    {
     "data": {
      "image/png": "[encoded data removed]",
      "text/plain": [
       "<matplotlib.figure.Figure at 0x13aa0cbe0>"
      ]
     },
     "metadata": {},
     "output_type": "display_data"
    }
   ],
   "source": [
    "#plot of transaction amount\n",
    "bins = np.linspace(10, 2000, 3000)\n",
    "plt.figure(figsize=(12,8))\n",
    "plt.hist(nonfrauddf.amount, bins, alpha=1, normed=True,  label='non_fraud')\n",
    "plt.hist(frauddf.amount, bins, alpha=0.6, normed=True, label='Fraud')\n",
    "plt.legend(loc='upper right')\n",
    "plt.title(\"Amount by percentage of transactions\")\n",
    "plt.xlabel(\"Transaction amount (rmb)\")\n",
    "plt.ylabel(\"Percentage of transactions (%)\")\n",
    "plt.show()"
   ]
  },
  {
   "cell_type": "markdown",
   "metadata": {},
   "source": [
    "- From heatmap, we can tell that feature 'fraud' is related with 'amount'. \n",
    "- From the summary statistics, the average transaction amount of 1.2% fraudulent transactions in train set is 538.2 rmb, which is extremely higher than average non-fraudulent transaction amount, 31.5 rmb. Standard deviation (850.3) for fraud class is large. \n",
    "- From the plot, we can observe that normal transactions are mostly low-value transactions, while fraudulent transactions are in wide range from 0 rmb to 7635 rmb.\n",
    "\n",
    "Thus, we could claim that the two classes (fraud vs non_fraud) come from populations with distinct means and deviations. They have different patterns."
   ]
  },
  {
   "cell_type": "code",
   "execution_count": 69,
   "metadata": {},
   "outputs": [
    {
     "data": {
      "image/png": "[encoded data removed]",
      "text/plain": [
       "<matplotlib.figure.Figure at 0x1337c5d30>"
      ]
     },
     "metadata": {},
     "output_type": "display_data"
    }
   ],
   "source": [
    "bins = np.linspace(0, 180, 1000)\n",
    "plt.figure(figsize=(12,8))\n",
    "plt.hist(nonfrauddf.time, bins, alpha=1, normed=True,  label='non_fraud')\n",
    "plt.hist(frauddf.time, bins, alpha=0.6, normed=True, label='Fraud')\n",
    "plt.legend(loc='upper right')\n",
    "plt.title(\"Percentage of transactions per time period\")\n",
    "plt.xlabel(\"Transaction time \")\n",
    "plt.ylabel(\"Percentage of transactions (%)\")\n",
    "plt.show()"
   ]
  },
  {
   "cell_type": "markdown",
   "metadata": {},
   "source": [
    "We can sightly see that fraudulent transaction from time 0 to time 25 has higher ratio than other periods of time. There is constant increasing in normal transaction from time 0 to time 180."
   ]
  },
  {
   "cell_type": "code",
   "execution_count": 79,
   "metadata": {},
   "outputs": [
    {
     "data": {
      "image/png": "[encoded data removed]",
      "text/plain": [
       "<matplotlib.figure.Figure at 0x12001aa58>"
      ]
     },
     "metadata": {},
     "output_type": "display_data"
    }
   ],
   "source": [
    "plt.figure(figsize=(12,8))\n",
    "plt.scatter(nonfrauddf.time, nonfrauddf.amount, alpha= 1, label='non_fraud')\n",
    "plt.scatter(frauddf.time, frauddf.amount, alpha=0.4, label='Fraud')\n",
    "plt.title(\"Transaction amount per time period\")\n",
    "plt.xlabel(\"Transaction time\")\n",
    "plt.ylabel('Amount (rmb)')\n",
    "plt.legend(loc='upper right')\n",
    "plt.show()"
   ]
  },
  {
   "cell_type": "markdown",
   "metadata": {},
   "source": [
    "- From heatmap, we observe that 'time' is not significant related to 'fraud' \n",
    "- From two plots above, we can't see there is a trend pattern of fraudulent transaction throughout the time periods so 'time' will be dropped in our data. Thus, we assume that fraud is **'time independent'** in our case.    "
   ]
  },
  {
   "cell_type": "markdown",
   "metadata": {},
   "source": [
    "#### relationship between categorical variables and target variable "
   ]
  },
  {
   "cell_type": "code",
   "execution_count": 113,
   "metadata": {},
   "outputs": [
    {
     "name": "stdout",
     "output_type": "stream",
     "text": [
      "fraud & age_group P-value:  1.2376426404215477e-16\n",
      "fraud & gender P-value:  2.3071618820478577e-72\n",
      "fraud & type P-value:  0.0\n"
     ]
    }
   ],
   "source": [
    "# For testing if two features are independent or not\n",
    "\n",
    "# H0: A and B are independent --> holds if p_value > treshold\n",
    "# H1: A and B are dependent --> holds if p_value < treshold\n",
    "    \n",
    "from scipy.stats import chi2_contingency\n",
    "\n",
    "csq = chi2_contingency(pd.crosstab( train.fraud , train.age_group))\n",
    "print(\"fraud & age_group P-value: \",csq[1])\n",
    "\n",
    "csq2 = chi2_contingency(pd.crosstab(train.fraud , train.gender))\n",
    "print(\"fraud & gender P-value: \",csq2[1])\n",
    "\n",
    "csq3 = chi2_contingency(pd.crosstab(train.fraud , train.type))\n",
    "print(\"fraud & type P-value: \",csq3[1])"
   ]
  },
  {
   "cell_type": "markdown",
   "metadata": {},
   "source": [
    "P values for categorical features **age_group, gender, and type** are very small, which we can reject Ho. It indicates that these features are dependent and related to 'fraud' variable. Thus, now let's check for their relationship. "
   ]
  },
  {
   "cell_type": "markdown",
   "metadata": {},
   "source": [
    "#### types vs merchants vs fraud"
   ]
  },
  {
   "cell_type": "code",
   "execution_count": 133,
   "metadata": {},
   "outputs": [
    {
     "data": {
      "image/png": "[encoded data removed]",
      "text/plain": [
       "<matplotlib.figure.Figure at 0x12c3f3860>"
      ]
     },
     "metadata": {},
     "output_type": "display_data"
    }
   ],
   "source": [
    "fig, ax=plt.subplots(figsize=(14,10))\n",
    "sns.countplot(x='fraud', data = train, hue='type', palette = 'husl')\n",
    "ax.set_ylim(0,14000)\n",
    "plt.title(\"Impact of 'type' on fraud\")\n",
    "plt.show()"
   ]
  },
  {
   "cell_type": "code",
   "execution_count": 144,
   "metadata": {},
   "outputs": [
    {
     "data": {
      "text/html": [
       "<div>\n",
       "<style>\n",
       "    .dataframe thead tr:only-child th {\n",
       "        text-align: right;\n",
       "    }\n",
       "\n",
       "    .dataframe thead th {\n",
       "        text-align: left;\n",
       "    }\n",
       "\n",
       "    .dataframe tbody tr th {\n",
       "        vertical-align: top;\n",
       "    }\n",
       "</style>\n",
       "<table border=\"1\" class=\"dataframe\">\n",
       "  <thead>\n",
       "    <tr style=\"text-align: right;\">\n",
       "      <th></th>\n",
       "      <th>type</th>\n",
       "      <th>num_fraud_trans</th>\n",
       "      <th>total_trans</th>\n",
       "      <th>ratio_t_f_m</th>\n",
       "    </tr>\n",
       "  </thead>\n",
       "  <tbody>\n",
       "    <tr>\n",
       "      <th>0</th>\n",
       "      <td>'es_barsandrestaurants'</td>\n",
       "      <td>58.0</td>\n",
       "      <td>3172</td>\n",
       "      <td>0.018285</td>\n",
       "    </tr>\n",
       "    <tr>\n",
       "      <th>1</th>\n",
       "      <td>'es_fashion'</td>\n",
       "      <td>58.0</td>\n",
       "      <td>3177</td>\n",
       "      <td>0.018256</td>\n",
       "    </tr>\n",
       "    <tr>\n",
       "      <th>2</th>\n",
       "      <td>'es_tech'</td>\n",
       "      <td>75.0</td>\n",
       "      <td>1173</td>\n",
       "      <td>0.063939</td>\n",
       "    </tr>\n",
       "    <tr>\n",
       "      <th>3</th>\n",
       "      <td>'es_otherservices'</td>\n",
       "      <td>110.0</td>\n",
       "      <td>456</td>\n",
       "      <td>0.241228</td>\n",
       "    </tr>\n",
       "    <tr>\n",
       "      <th>4</th>\n",
       "      <td>'es_hyper'</td>\n",
       "      <td>133.0</td>\n",
       "      <td>2972</td>\n",
       "      <td>0.044751</td>\n",
       "    </tr>\n",
       "    <tr>\n",
       "      <th>5</th>\n",
       "      <td>'es_home'</td>\n",
       "      <td>136.0</td>\n",
       "      <td>996</td>\n",
       "      <td>0.136546</td>\n",
       "    </tr>\n",
       "    <tr>\n",
       "      <th>6</th>\n",
       "      <td>'es_leisure'</td>\n",
       "      <td>234.0</td>\n",
       "      <td>242</td>\n",
       "      <td>0.966942</td>\n",
       "    </tr>\n",
       "    <tr>\n",
       "      <th>7</th>\n",
       "      <td>'es_hotelservices'</td>\n",
       "      <td>259.0</td>\n",
       "      <td>805</td>\n",
       "      <td>0.321739</td>\n",
       "    </tr>\n",
       "    <tr>\n",
       "      <th>8</th>\n",
       "      <td>'es_travel'</td>\n",
       "      <td>297.0</td>\n",
       "      <td>372</td>\n",
       "      <td>0.798387</td>\n",
       "    </tr>\n",
       "    <tr>\n",
       "      <th>9</th>\n",
       "      <td>'es_wellnessandbeauty'</td>\n",
       "      <td>346.0</td>\n",
       "      <td>7551</td>\n",
       "      <td>0.045822</td>\n",
       "    </tr>\n",
       "    <tr>\n",
       "      <th>10</th>\n",
       "      <td>'es_health'</td>\n",
       "      <td>757.0</td>\n",
       "      <td>7912</td>\n",
       "      <td>0.095677</td>\n",
       "    </tr>\n",
       "    <tr>\n",
       "      <th>11</th>\n",
       "      <td>'es_sportsandtoys'</td>\n",
       "      <td>993.0</td>\n",
       "      <td>1994</td>\n",
       "      <td>0.497994</td>\n",
       "    </tr>\n",
       "    <tr>\n",
       "      <th>12</th>\n",
       "      <td>'es_contents'</td>\n",
       "      <td>0.0</td>\n",
       "      <td>426</td>\n",
       "      <td>0.000000</td>\n",
       "    </tr>\n",
       "    <tr>\n",
       "      <th>13</th>\n",
       "      <td>'es_food'</td>\n",
       "      <td>0.0</td>\n",
       "      <td>13116</td>\n",
       "      <td>0.000000</td>\n",
       "    </tr>\n",
       "    <tr>\n",
       "      <th>14</th>\n",
       "      <td>'es_transportation'</td>\n",
       "      <td>0.0</td>\n",
       "      <td>252144</td>\n",
       "      <td>0.000000</td>\n",
       "    </tr>\n",
       "  </tbody>\n",
       "</table>\n",
       "</div>"
      ],
      "text/plain": [
       "                       type  num_fraud_trans  total_trans  ratio_t_f_m\n",
       "0   'es_barsandrestaurants'             58.0         3172     0.018285\n",
       "1              'es_fashion'             58.0         3177     0.018256\n",
       "2                 'es_tech'             75.0         1173     0.063939\n",
       "3        'es_otherservices'            110.0          456     0.241228\n",
       "4                'es_hyper'            133.0         2972     0.044751\n",
       "5                 'es_home'            136.0          996     0.136546\n",
       "6              'es_leisure'            234.0          242     0.966942\n",
       "7        'es_hotelservices'            259.0          805     0.321739\n",
       "8               'es_travel'            297.0          372     0.798387\n",
       "9    'es_wellnessandbeauty'            346.0         7551     0.045822\n",
       "10              'es_health'            757.0         7912     0.095677\n",
       "11       'es_sportsandtoys'            993.0         1994     0.497994\n",
       "12            'es_contents'              0.0          426     0.000000\n",
       "13                'es_food'              0.0        13116     0.000000\n",
       "14      'es_transportation'              0.0       252144     0.000000"
      ]
     },
     "execution_count": 144,
     "metadata": {},
     "output_type": "execute_result"
    }
   ],
   "source": [
    "num_f_m =(\n",
    "    frauddf\n",
    "    .groupby('type')['merchant_id']\n",
    "    .size()\n",
    "    .sort_values()\n",
    "    .reset_index()\n",
    "    .rename(columns = {'merchant_id': 'num_fraud_trans'})\n",
    ")\n",
    "\n",
    "total_m = (\n",
    "    train.groupby('type')['merchant_id']\n",
    "    .size()\n",
    "    .sort_values()\n",
    "    .reset_index()\n",
    "    .rename(columns = {'merchant_id': 'total_trans'})\n",
    ")\n",
    "\n",
    "type_m = pd.merge(num_f_m , total_m, on='type', how='outer').fillna(0)\n",
    "type_m['ratio_t_f_m'] = type_m.num_fraud_trans / type_m.total_trans\n",
    "type_m"
   ]
  },
  {
   "cell_type": "markdown",
   "metadata": {},
   "source": [
    "- From the plot, we can see the largest number of transactions in train data are from **'transportation' and 'food'** types; however, there is no fraudulent transactions in these two types. **'es_contents'** also has no fraudulent transactions. In other words, we may miss to classify fraudulent transactions if only given the information of these three types. \n",
    "\n",
    "\n",
    "- 97% of merchants from **'es_leisure'** type have fraudulent transactions. Around 80% of merchants from **'es_travel'** type have fraudulent transactions. **'es_sportsandtoys' and 'es_hotelservices'** are another two types that have high probably (50% & 32%) of making fraudulent transactions. Thus, we could better capture fraud patterns from these types since we were given more information of the fraudulent transactions. From other point of view, we should investigate more on these 4 types to prevent fraudulent transactions."
   ]
  },
  {
   "cell_type": "markdown",
   "metadata": {},
   "source": [
    "#### age_groups vs merchants vs fraud"
   ]
  },
  {
   "cell_type": "code",
   "execution_count": 155,
   "metadata": {},
   "outputs": [
    {
     "data": {
      "image/png": "[encoded data removed]",
      "text/plain": [
       "<matplotlib.figure.Figure at 0x11f44d780>"
      ]
     },
     "metadata": {},
     "output_type": "display_data"
    }
   ],
   "source": [
    "fig, ax=plt.subplots(figsize=(12,10))\n",
    "sns.countplot(x='fraud', data = train, hue='age_group', palette = 'husl')\n",
    "ax.set_ylim(0,1500)\n",
    "plt.title(\"Impact of 'age group' on fraud\")\n",
    "plt.show()"
   ]
  },
  {
   "cell_type": "code",
   "execution_count": 499,
   "metadata": {},
   "outputs": [
    {
     "data": {
      "text/html": [
       "<div>\n",
       "<style>\n",
       "    .dataframe thead tr:only-child th {\n",
       "        text-align: right;\n",
       "    }\n",
       "\n",
       "    .dataframe thead th {\n",
       "        text-align: left;\n",
       "    }\n",
       "\n",
       "    .dataframe tbody tr th {\n",
       "        vertical-align: top;\n",
       "    }\n",
       "</style>\n",
       "<table border=\"1\" class=\"dataframe\">\n",
       "  <thead>\n",
       "    <tr style=\"text-align: right;\">\n",
       "      <th></th>\n",
       "      <th>age_group</th>\n",
       "      <th>num_fraud_trans</th>\n",
       "      <th>total_trans</th>\n",
       "      <th>ratio_f_m</th>\n",
       "    </tr>\n",
       "  </thead>\n",
       "  <tbody>\n",
       "    <tr>\n",
       "      <th>0</th>\n",
       "      <td>'0'</td>\n",
       "      <td>26.0</td>\n",
       "      <td>1191</td>\n",
       "      <td>0.022</td>\n",
       "    </tr>\n",
       "    <tr>\n",
       "      <th>1</th>\n",
       "      <td>'6'</td>\n",
       "      <td>158.0</td>\n",
       "      <td>15061</td>\n",
       "      <td>0.010</td>\n",
       "    </tr>\n",
       "    <tr>\n",
       "      <th>2</th>\n",
       "      <td>'1'</td>\n",
       "      <td>324.0</td>\n",
       "      <td>30369</td>\n",
       "      <td>0.011</td>\n",
       "    </tr>\n",
       "    <tr>\n",
       "      <th>3</th>\n",
       "      <td>'5'</td>\n",
       "      <td>327.0</td>\n",
       "      <td>34484</td>\n",
       "      <td>0.009</td>\n",
       "    </tr>\n",
       "    <tr>\n",
       "      <th>4</th>\n",
       "      <td>'4'</td>\n",
       "      <td>693.0</td>\n",
       "      <td>50387</td>\n",
       "      <td>0.014</td>\n",
       "    </tr>\n",
       "    <tr>\n",
       "      <th>5</th>\n",
       "      <td>'3'</td>\n",
       "      <td>709.0</td>\n",
       "      <td>71845</td>\n",
       "      <td>0.010</td>\n",
       "    </tr>\n",
       "    <tr>\n",
       "      <th>6</th>\n",
       "      <td>'2'</td>\n",
       "      <td>1219.0</td>\n",
       "      <td>92825</td>\n",
       "      <td>0.013</td>\n",
       "    </tr>\n",
       "    <tr>\n",
       "      <th>7</th>\n",
       "      <td>'U'</td>\n",
       "      <td>0.0</td>\n",
       "      <td>346</td>\n",
       "      <td>0.000</td>\n",
       "    </tr>\n",
       "  </tbody>\n",
       "</table>\n",
       "</div>"
      ],
      "text/plain": [
       "  age_group  num_fraud_trans  total_trans  ratio_f_m\n",
       "0       '0'             26.0         1191      0.022\n",
       "1       '6'            158.0        15061      0.010\n",
       "2       '1'            324.0        30369      0.011\n",
       "3       '5'            327.0        34484      0.009\n",
       "4       '4'            693.0        50387      0.014\n",
       "5       '3'            709.0        71845      0.010\n",
       "6       '2'           1219.0        92825      0.013\n",
       "7       'U'              0.0          346      0.000"
      ]
     },
     "execution_count": 499,
     "metadata": {},
     "output_type": "execute_result"
    }
   ],
   "source": [
    "# Create a data frame, rename the size column and assign the resulting data frame to a new variable.\n",
    "num_f_m =(\n",
    "    frauddf\n",
    "    .groupby('age_group')['merchant_id']\n",
    "    .size()\n",
    "    .sort_values()\n",
    "    .reset_index()\n",
    "    .rename(columns = {'merchant_id': 'num_fraud_trans'})\n",
    ")\n",
    "\n",
    "total_m = (\n",
    "    train.groupby('age_group')['merchant_id']\n",
    "    .size()\n",
    "    .sort_values()\n",
    "    .reset_index()\n",
    "    .rename(columns = {'merchant_id': 'total_trans'})\n",
    ")\n",
    "\n",
    "age_m = pd.merge(num_f_m , total_m, on='age_group', how='outer').fillna(0)\n",
    "age_m['ratio_f_m'] = age_m.num_fraud_trans / age_m.total_trans\n",
    "age_m"
   ]
  },
  {
   "cell_type": "markdown",
   "metadata": {},
   "source": [
    "Age groups **'2','3','4'** with the top three highest number of transactions and fraudulent transactions have similar ratio of encountering fraudulent transactions. However, age group **'0'** with the second last number of transactions has the highest ratio of encountering fraudulent transactions."
   ]
  },
  {
   "cell_type": "markdown",
   "metadata": {},
   "source": [
    "####  genders vs merchants vs fraud"
   ]
  },
  {
   "cell_type": "code",
   "execution_count": 157,
   "metadata": {},
   "outputs": [
    {
     "data": {
      "image/png": "[encoded data removed]",
      "text/plain": [
       "<matplotlib.figure.Figure at 0x12b9cf898>"
      ]
     },
     "metadata": {},
     "output_type": "display_data"
    }
   ],
   "source": [
    "fig, ax=plt.subplots(figsize=(14,10))\n",
    "sns.countplot(x='fraud', data = train, hue='gender', palette = 'husl')\n",
    "ax.set_ylim(0,1500)\n",
    "plt.title(\"Impact of 'gender' on fraud\")\n",
    "plt.show()"
   ]
  },
  {
   "cell_type": "code",
   "execution_count": 498,
   "metadata": {},
   "outputs": [
    {
     "data": {
      "text/html": [
       "<div>\n",
       "<style>\n",
       "    .dataframe thead tr:only-child th {\n",
       "        text-align: right;\n",
       "    }\n",
       "\n",
       "    .dataframe thead th {\n",
       "        text-align: left;\n",
       "    }\n",
       "\n",
       "    .dataframe tbody tr th {\n",
       "        vertical-align: top;\n",
       "    }\n",
       "</style>\n",
       "<table border=\"1\" class=\"dataframe\">\n",
       "  <thead>\n",
       "    <tr style=\"text-align: right;\">\n",
       "      <th></th>\n",
       "      <th>gender</th>\n",
       "      <th>num_fraud_trans</th>\n",
       "      <th>total_trans</th>\n",
       "      <th>ratio_f_m</th>\n",
       "    </tr>\n",
       "  </thead>\n",
       "  <tbody>\n",
       "    <tr>\n",
       "      <th>0</th>\n",
       "      <td>'M'</td>\n",
       "      <td>1023.0</td>\n",
       "      <td>132495</td>\n",
       "      <td>0.008</td>\n",
       "    </tr>\n",
       "    <tr>\n",
       "      <th>1</th>\n",
       "      <td>'F'</td>\n",
       "      <td>2433.0</td>\n",
       "      <td>163316</td>\n",
       "      <td>0.015</td>\n",
       "    </tr>\n",
       "    <tr>\n",
       "      <th>2</th>\n",
       "      <td>'E'</td>\n",
       "      <td>0.0</td>\n",
       "      <td>346</td>\n",
       "      <td>0.000</td>\n",
       "    </tr>\n",
       "    <tr>\n",
       "      <th>3</th>\n",
       "      <td>'U'</td>\n",
       "      <td>0.0</td>\n",
       "      <td>351</td>\n",
       "      <td>0.000</td>\n",
       "    </tr>\n",
       "  </tbody>\n",
       "</table>\n",
       "</div>"
      ],
      "text/plain": [
       "  gender  num_fraud_trans  total_trans  ratio_f_m\n",
       "0    'M'           1023.0       132495      0.008\n",
       "1    'F'           2433.0       163316      0.015\n",
       "2    'E'              0.0          346      0.000\n",
       "3    'U'              0.0          351      0.000"
      ]
     },
     "execution_count": 498,
     "metadata": {},
     "output_type": "execute_result"
    }
   ],
   "source": [
    "# Create a data frame, rename the size column and assign the resulting data frame to a new variable.\n",
    "num_f_m =(\n",
    "    frauddf\n",
    "    .groupby('gender')['merchant_id']\n",
    "    .size()\n",
    "    .sort_values()\n",
    "    .reset_index()\n",
    "    .rename(columns = {'merchant_id': 'num_fraud_trans'})\n",
    ")\n",
    "\n",
    "total_m = (\n",
    "    train.groupby('gender')['merchant_id']\n",
    "    .size()\n",
    "    .sort_values()\n",
    "    .reset_index()\n",
    "    .rename(columns = {'merchant_id': 'total_trans'})\n",
    ")\n",
    "\n",
    "gender_m = pd.merge(num_f_m , total_m, on='gender', how='outer').fillna(0)\n",
    "gender_m['ratio_f_m'] = gender_m.num_fraud_trans / gender_m.total_trans\n",
    "gender_m"
   ]
  },
  {
   "cell_type": "markdown",
   "metadata": {},
   "source": [
    "**Female customer** may be more likely to encounter fraudulent transactions than other gender. "
   ]
  },
  {
   "cell_type": "code",
   "execution_count": null,
   "metadata": {
    "collapsed": true
   },
   "outputs": [],
   "source": [
    "fig, ax=plt.subplots(figsize=(14,10))\n",
    "sns.countplot(x='fraud', data = train, hue='merchant_id', palette = 'husl')\n",
    "ax.set_ylim(0,14000)\n",
    "plt.title(\"Impact of 'merchat' on fraud\")\n",
    "plt.show()"
   ]
  },
  {
   "cell_type": "markdown",
   "metadata": {},
   "source": [
    "#### merchants VS. customers "
   ]
  },
  {
   "cell_type": "code",
   "execution_count": 3,
   "metadata": {},
   "outputs": [
    {
     "data": {
      "text/plain": [
       "customer_id                 \n",
       "'C1000148617'  'M1823072687'    92\n",
       "               'M348934600'     22\n",
       "               'M85975013'       5\n",
       "               'M1888755466'     2\n",
       "               'M1400236507'     1\n",
       "Name: merchant_id, dtype: int64"
      ]
     },
     "execution_count": 3,
     "metadata": {},
     "output_type": "execute_result"
    }
   ],
   "source": [
    "subset = df[['customer_id', 'merchant_id']]\n",
    "temp = subset.groupby('customer_id').merchant_id.apply(lambda x: x.value_counts())\n",
    "temp.head()"
   ]
  },
  {
   "cell_type": "code",
   "execution_count": 4,
   "metadata": {},
   "outputs": [
    {
     "data": {
      "text/html": [
       "<div>\n",
       "<style>\n",
       "    .dataframe thead tr:only-child th {\n",
       "        text-align: right;\n",
       "    }\n",
       "\n",
       "    .dataframe thead th {\n",
       "        text-align: left;\n",
       "    }\n",
       "\n",
       "    .dataframe tbody tr th {\n",
       "        vertical-align: top;\n",
       "    }\n",
       "</style>\n",
       "<table border=\"1\" class=\"dataframe\">\n",
       "  <thead>\n",
       "    <tr style=\"text-align: right;\">\n",
       "      <th></th>\n",
       "      <th>'M1053599405'</th>\n",
       "      <th>'M117188757'</th>\n",
       "      <th>'M1198415165'</th>\n",
       "      <th>'M1294758098'</th>\n",
       "      <th>'M1313686961'</th>\n",
       "      <th>'M1352454843'</th>\n",
       "      <th>'M1353266412'</th>\n",
       "      <th>'M1400236507'</th>\n",
       "      <th>'M1416436880'</th>\n",
       "      <th>'M151143676'</th>\n",
       "      <th>...</th>\n",
       "      <th>'M732195782'</th>\n",
       "      <th>'M78078399'</th>\n",
       "      <th>'M840466850'</th>\n",
       "      <th>'M855959430'</th>\n",
       "      <th>'M857378720'</th>\n",
       "      <th>'M85975013'</th>\n",
       "      <th>'M923029380'</th>\n",
       "      <th>'M933210764'</th>\n",
       "      <th>'M97925176'</th>\n",
       "      <th>'M980657600'</th>\n",
       "    </tr>\n",
       "    <tr>\n",
       "      <th>customer_id</th>\n",
       "      <th></th>\n",
       "      <th></th>\n",
       "      <th></th>\n",
       "      <th></th>\n",
       "      <th></th>\n",
       "      <th></th>\n",
       "      <th></th>\n",
       "      <th></th>\n",
       "      <th></th>\n",
       "      <th></th>\n",
       "      <th></th>\n",
       "      <th></th>\n",
       "      <th></th>\n",
       "      <th></th>\n",
       "      <th></th>\n",
       "      <th></th>\n",
       "      <th></th>\n",
       "      <th></th>\n",
       "      <th></th>\n",
       "      <th></th>\n",
       "      <th></th>\n",
       "    </tr>\n",
       "  </thead>\n",
       "  <tbody>\n",
       "    <tr>\n",
       "      <th>'C99729647'</th>\n",
       "      <td>2.0</td>\n",
       "      <td>0.0</td>\n",
       "      <td>0.0</td>\n",
       "      <td>0.0</td>\n",
       "      <td>0.0</td>\n",
       "      <td>0.0</td>\n",
       "      <td>0.0</td>\n",
       "      <td>1.0</td>\n",
       "      <td>1.0</td>\n",
       "      <td>1.0</td>\n",
       "      <td>...</td>\n",
       "      <td>0.0</td>\n",
       "      <td>0.0</td>\n",
       "      <td>2.0</td>\n",
       "      <td>1.0</td>\n",
       "      <td>0.0</td>\n",
       "      <td>7.0</td>\n",
       "      <td>0.0</td>\n",
       "      <td>0.0</td>\n",
       "      <td>0.0</td>\n",
       "      <td>0.0</td>\n",
       "    </tr>\n",
       "    <tr>\n",
       "      <th>'C998690782'</th>\n",
       "      <td>0.0</td>\n",
       "      <td>0.0</td>\n",
       "      <td>0.0</td>\n",
       "      <td>0.0</td>\n",
       "      <td>0.0</td>\n",
       "      <td>0.0</td>\n",
       "      <td>0.0</td>\n",
       "      <td>0.0</td>\n",
       "      <td>0.0</td>\n",
       "      <td>5.0</td>\n",
       "      <td>...</td>\n",
       "      <td>2.0</td>\n",
       "      <td>0.0</td>\n",
       "      <td>1.0</td>\n",
       "      <td>2.0</td>\n",
       "      <td>0.0</td>\n",
       "      <td>2.0</td>\n",
       "      <td>0.0</td>\n",
       "      <td>0.0</td>\n",
       "      <td>0.0</td>\n",
       "      <td>0.0</td>\n",
       "    </tr>\n",
       "    <tr>\n",
       "      <th>'C998987490'</th>\n",
       "      <td>6.0</td>\n",
       "      <td>0.0</td>\n",
       "      <td>0.0</td>\n",
       "      <td>0.0</td>\n",
       "      <td>1.0</td>\n",
       "      <td>0.0</td>\n",
       "      <td>0.0</td>\n",
       "      <td>0.0</td>\n",
       "      <td>0.0</td>\n",
       "      <td>0.0</td>\n",
       "      <td>...</td>\n",
       "      <td>0.0</td>\n",
       "      <td>0.0</td>\n",
       "      <td>0.0</td>\n",
       "      <td>0.0</td>\n",
       "      <td>0.0</td>\n",
       "      <td>13.0</td>\n",
       "      <td>0.0</td>\n",
       "      <td>0.0</td>\n",
       "      <td>0.0</td>\n",
       "      <td>0.0</td>\n",
       "    </tr>\n",
       "    <tr>\n",
       "      <th>'C999393223'</th>\n",
       "      <td>2.0</td>\n",
       "      <td>0.0</td>\n",
       "      <td>2.0</td>\n",
       "      <td>0.0</td>\n",
       "      <td>0.0</td>\n",
       "      <td>0.0</td>\n",
       "      <td>0.0</td>\n",
       "      <td>0.0</td>\n",
       "      <td>0.0</td>\n",
       "      <td>1.0</td>\n",
       "      <td>...</td>\n",
       "      <td>0.0</td>\n",
       "      <td>3.0</td>\n",
       "      <td>0.0</td>\n",
       "      <td>4.0</td>\n",
       "      <td>0.0</td>\n",
       "      <td>6.0</td>\n",
       "      <td>0.0</td>\n",
       "      <td>0.0</td>\n",
       "      <td>2.0</td>\n",
       "      <td>0.0</td>\n",
       "    </tr>\n",
       "    <tr>\n",
       "      <th>'C999723254'</th>\n",
       "      <td>2.0</td>\n",
       "      <td>0.0</td>\n",
       "      <td>0.0</td>\n",
       "      <td>0.0</td>\n",
       "      <td>0.0</td>\n",
       "      <td>0.0</td>\n",
       "      <td>0.0</td>\n",
       "      <td>0.0</td>\n",
       "      <td>0.0</td>\n",
       "      <td>0.0</td>\n",
       "      <td>...</td>\n",
       "      <td>0.0</td>\n",
       "      <td>0.0</td>\n",
       "      <td>0.0</td>\n",
       "      <td>2.0</td>\n",
       "      <td>0.0</td>\n",
       "      <td>8.0</td>\n",
       "      <td>0.0</td>\n",
       "      <td>0.0</td>\n",
       "      <td>0.0</td>\n",
       "      <td>0.0</td>\n",
       "    </tr>\n",
       "  </tbody>\n",
       "</table>\n",
       "<p>5 rows × 50 columns</p>\n",
       "</div>"
      ],
      "text/plain": [
       "              'M1053599405'  'M117188757'  'M1198415165'  'M1294758098'  \\\n",
       "customer_id                                                               \n",
       "'C99729647'             2.0           0.0            0.0            0.0   \n",
       "'C998690782'            0.0           0.0            0.0            0.0   \n",
       "'C998987490'            6.0           0.0            0.0            0.0   \n",
       "'C999393223'            2.0           0.0            2.0            0.0   \n",
       "'C999723254'            2.0           0.0            0.0            0.0   \n",
       "\n",
       "              'M1313686961'  'M1352454843'  'M1353266412'  'M1400236507'  \\\n",
       "customer_id                                                                \n",
       "'C99729647'             0.0            0.0            0.0            1.0   \n",
       "'C998690782'            0.0            0.0            0.0            0.0   \n",
       "'C998987490'            1.0            0.0            0.0            0.0   \n",
       "'C999393223'            0.0            0.0            0.0            0.0   \n",
       "'C999723254'            0.0            0.0            0.0            0.0   \n",
       "\n",
       "              'M1416436880'  'M151143676'      ...       'M732195782'  \\\n",
       "customer_id                                    ...                      \n",
       "'C99729647'             1.0           1.0      ...                0.0   \n",
       "'C998690782'            0.0           5.0      ...                2.0   \n",
       "'C998987490'            0.0           0.0      ...                0.0   \n",
       "'C999393223'            0.0           1.0      ...                0.0   \n",
       "'C999723254'            0.0           0.0      ...                0.0   \n",
       "\n",
       "              'M78078399'  'M840466850'  'M855959430'  'M857378720'  \\\n",
       "customer_id                                                           \n",
       "'C99729647'           0.0           2.0           1.0           0.0   \n",
       "'C998690782'          0.0           1.0           2.0           0.0   \n",
       "'C998987490'          0.0           0.0           0.0           0.0   \n",
       "'C999393223'          3.0           0.0           4.0           0.0   \n",
       "'C999723254'          0.0           0.0           2.0           0.0   \n",
       "\n",
       "              'M85975013'  'M923029380'  'M933210764'  'M97925176'  \\\n",
       "customer_id                                                          \n",
       "'C99729647'           7.0           0.0           0.0          0.0   \n",
       "'C998690782'          2.0           0.0           0.0          0.0   \n",
       "'C998987490'         13.0           0.0           0.0          0.0   \n",
       "'C999393223'          6.0           0.0           0.0          2.0   \n",
       "'C999723254'          8.0           0.0           0.0          0.0   \n",
       "\n",
       "              'M980657600'  \n",
       "customer_id                 \n",
       "'C99729647'            0.0  \n",
       "'C998690782'           0.0  \n",
       "'C998987490'           0.0  \n",
       "'C999393223'           0.0  \n",
       "'C999723254'           0.0  \n",
       "\n",
       "[5 rows x 50 columns]"
      ]
     },
     "execution_count": 4,
     "metadata": {},
     "output_type": "execute_result"
    }
   ],
   "source": [
    "fraud_unstack = temp.unstack().fillna(0) #will be used for creating adjlist in section 3 \n",
    "fraud_unstack.tail() "
   ]
  },
  {
   "cell_type": "code",
   "execution_count": 5,
   "metadata": {},
   "outputs": [
    {
     "data": {
      "text/plain": [
       "(4112, 50)"
      ]
     },
     "execution_count": 5,
     "metadata": {},
     "output_type": "execute_result"
    }
   ],
   "source": [
    "fraud_unstack.shape  #4112 customers with 50 merchants "
   ]
  },
  {
   "cell_type": "code",
   "execution_count": 6,
   "metadata": {},
   "outputs": [
    {
     "data": {
      "text/plain": [
       "count    4112.000000\n",
       "mean      144.611625\n",
       "std        42.788212\n",
       "min         5.000000\n",
       "25%       130.000000\n",
       "50%       165.000000\n",
       "75%       173.000000\n",
       "max       265.000000\n",
       "dtype: float64"
      ]
     },
     "execution_count": 6,
     "metadata": {},
     "output_type": "execute_result"
    }
   ],
   "source": [
    "customer_activation = fraud_unstack.sum(axis = 1)\n",
    "customer_activation.describe()"
   ]
  },
  {
   "cell_type": "code",
   "execution_count": 7,
   "metadata": {},
   "outputs": [
    {
     "data": {
      "image/png": "[encoded data removed]",
      "text/plain": [
       "<matplotlib.figure.Figure at 0x10b703d30>"
      ]
     },
     "metadata": {},
     "output_type": "display_data"
    }
   ],
   "source": [
    "customer_activation.plot(kind = 'hist',bins = 50,figsize = (16,4),title = 'Distribution, count of merchants per customer interacted with')\n",
    "plt.show()"
   ]
  },
  {
   "cell_type": "markdown",
   "metadata": {},
   "source": [
    "Average 144 merchants (std 43 merchants) that each customer interacted within the 180 time periods. "
   ]
  },
  {
   "cell_type": "code",
   "execution_count": 8,
   "metadata": {},
   "outputs": [
    {
     "data": {
      "image/png": "[encoded data removed]",
      "text/plain": [
       "<matplotlib.figure.Figure at 0x11f0d3c18>"
      ]
     },
     "metadata": {},
     "output_type": "display_data"
    }
   ],
   "source": [
    "merchant_popularity = fraud_unstack.mean(axis = 0)\n",
    "merchant_popularity.plot(kind = 'hist',figsize = (8,4),title = 'Distribution of merchant popularity (proportion of customers who has made transaction )')\n",
    "plt.show()"
   ]
  },
  {
   "cell_type": "code",
   "execution_count": 9,
   "metadata": {},
   "outputs": [
    {
     "data": {
      "text/plain": [
       "count    50.000000\n",
       "mean      2.892232\n",
       "std      12.325473\n",
       "min       0.000730\n",
       "25%       0.062257\n",
       "50%       0.146766\n",
       "75%       0.448261\n",
       "max      72.882539\n",
       "dtype: float64"
      ]
     },
     "execution_count": 9,
     "metadata": {},
     "output_type": "execute_result"
    }
   ],
   "source": [
    "merchant_popularity.describe()"
   ]
  },
  {
   "cell_type": "code",
   "execution_count": 104,
   "metadata": {},
   "outputs": [
    {
     "data": {
      "text/html": [
       "<div>\n",
       "<style>\n",
       "    .dataframe thead tr:only-child th {\n",
       "        text-align: right;\n",
       "    }\n",
       "\n",
       "    .dataframe thead th {\n",
       "        text-align: left;\n",
       "    }\n",
       "\n",
       "    .dataframe tbody tr th {\n",
       "        vertical-align: top;\n",
       "    }\n",
       "</style>\n",
       "<table border=\"1\" class=\"dataframe\">\n",
       "  <thead>\n",
       "    <tr style=\"text-align: right;\">\n",
       "      <th></th>\n",
       "      <th>age_group</th>\n",
       "      <th>amount</th>\n",
       "      <th>customer_id</th>\n",
       "      <th>fraud</th>\n",
       "      <th>gender</th>\n",
       "      <th>id</th>\n",
       "      <th>merchant_id</th>\n",
       "      <th>time</th>\n",
       "      <th>type</th>\n",
       "    </tr>\n",
       "  </thead>\n",
       "  <tbody>\n",
       "    <tr>\n",
       "      <th>count</th>\n",
       "      <td>205426.000000</td>\n",
       "      <td>205426.000000</td>\n",
       "      <td>2.054260e+05</td>\n",
       "      <td>102204.0</td>\n",
       "      <td>205426.000000</td>\n",
       "      <td>205426.000000</td>\n",
       "      <td>205426.0</td>\n",
       "      <td>205426.000000</td>\n",
       "      <td>205426.0</td>\n",
       "    </tr>\n",
       "    <tr>\n",
       "      <th>mean</th>\n",
       "      <td>3.038252</td>\n",
       "      <td>26.965261</td>\n",
       "      <td>1.069688e+09</td>\n",
       "      <td>0.0</td>\n",
       "      <td>1.448288</td>\n",
       "      <td>148435.669696</td>\n",
       "      <td>348934600.0</td>\n",
       "      <td>76.615823</td>\n",
       "      <td>12.0</td>\n",
       "    </tr>\n",
       "    <tr>\n",
       "      <th>std</th>\n",
       "      <td>1.354382</td>\n",
       "      <td>17.526558</td>\n",
       "      <td>6.173859e+08</td>\n",
       "      <td>0.0</td>\n",
       "      <td>0.502171</td>\n",
       "      <td>85766.766422</td>\n",
       "      <td>0.0</td>\n",
       "      <td>50.700202</td>\n",
       "      <td>0.0</td>\n",
       "    </tr>\n",
       "    <tr>\n",
       "      <th>min</th>\n",
       "      <td>0.000000</td>\n",
       "      <td>-1.200000</td>\n",
       "      <td>9.535600e+04</td>\n",
       "      <td>0.0</td>\n",
       "      <td>0.000000</td>\n",
       "      <td>0.000000</td>\n",
       "      <td>348934600.0</td>\n",
       "      <td>0.000000</td>\n",
       "      <td>12.0</td>\n",
       "    </tr>\n",
       "    <tr>\n",
       "      <th>25%</th>\n",
       "      <td>2.000000</td>\n",
       "      <td>12.840000</td>\n",
       "      <td>5.501908e+08</td>\n",
       "      <td>0.0</td>\n",
       "      <td>1.000000</td>\n",
       "      <td>74225.750000</td>\n",
       "      <td>348934600.0</td>\n",
       "      <td>32.000000</td>\n",
       "      <td>12.0</td>\n",
       "    </tr>\n",
       "    <tr>\n",
       "      <th>50%</th>\n",
       "      <td>3.000000</td>\n",
       "      <td>24.980000</td>\n",
       "      <td>1.078317e+09</td>\n",
       "      <td>0.0</td>\n",
       "      <td>1.000000</td>\n",
       "      <td>148371.000000</td>\n",
       "      <td>348934600.0</td>\n",
       "      <td>71.000000</td>\n",
       "      <td>12.0</td>\n",
       "    </tr>\n",
       "    <tr>\n",
       "      <th>75%</th>\n",
       "      <td>4.000000</td>\n",
       "      <td>38.650000</td>\n",
       "      <td>1.597977e+09</td>\n",
       "      <td>0.0</td>\n",
       "      <td>2.000000</td>\n",
       "      <td>222568.750000</td>\n",
       "      <td>348934600.0</td>\n",
       "      <td>117.000000</td>\n",
       "      <td>12.0</td>\n",
       "    </tr>\n",
       "    <tr>\n",
       "      <th>max</th>\n",
       "      <td>7.000000</td>\n",
       "      <td>118.070000</td>\n",
       "      <td>2.145933e+09</td>\n",
       "      <td>0.0</td>\n",
       "      <td>3.000000</td>\n",
       "      <td>298133.000000</td>\n",
       "      <td>348934600.0</td>\n",
       "      <td>179.000000</td>\n",
       "      <td>12.0</td>\n",
       "    </tr>\n",
       "  </tbody>\n",
       "</table>\n",
       "</div>"
      ],
      "text/plain": [
       "           age_group         amount   customer_id     fraud         gender  \\\n",
       "count  205426.000000  205426.000000  2.054260e+05  102204.0  205426.000000   \n",
       "mean        3.038252      26.965261  1.069688e+09       0.0       1.448288   \n",
       "std         1.354382      17.526558  6.173859e+08       0.0       0.502171   \n",
       "min         0.000000      -1.200000  9.535600e+04       0.0       0.000000   \n",
       "25%         2.000000      12.840000  5.501908e+08       0.0       1.000000   \n",
       "50%         3.000000      24.980000  1.078317e+09       0.0       1.000000   \n",
       "75%         4.000000      38.650000  1.597977e+09       0.0       2.000000   \n",
       "max         7.000000     118.070000  2.145933e+09       0.0       3.000000   \n",
       "\n",
       "                  id  merchant_id           time      type  \n",
       "count  205426.000000     205426.0  205426.000000  205426.0  \n",
       "mean   148435.669696  348934600.0      76.615823      12.0  \n",
       "std     85766.766422          0.0      50.700202       0.0  \n",
       "min         0.000000  348934600.0       0.000000      12.0  \n",
       "25%     74225.750000  348934600.0      32.000000      12.0  \n",
       "50%    148371.000000  348934600.0      71.000000      12.0  \n",
       "75%    222568.750000  348934600.0     117.000000      12.0  \n",
       "max    298133.000000  348934600.0     179.000000      12.0  "
      ]
     },
     "execution_count": 104,
     "metadata": {},
     "output_type": "execute_result"
    }
   ],
   "source": [
    "df1823072687 = df.loc[(df.merchant_id == 1823072687) ]\n",
    "df348934600 = df.loc[(df.merchant_id == 348934600) ]\n",
    "df1823072687.describe()\n",
    "df348934600.describe()"
   ]
  },
  {
   "cell_type": "markdown",
   "metadata": {},
   "source": [
    "M1823072687 & M348934600 are the only two merchants that have over 44% populatity in data. They are labeled as normal transportation transactions. "
   ]
  },
  {
   "cell_type": "markdown",
   "metadata": {},
   "source": [
    "#### merchants vs fraud"
   ]
  },
  {
   "cell_type": "code",
   "execution_count": 380,
   "metadata": {},
   "outputs": [
    {
     "data": {
      "text/plain": [
       "merchant_id    fraud\n",
       "'M1053599405'  0        3377\n",
       "'M117188757'   0          11\n",
       "'M1198415165'  0         604\n",
       "               1         185\n",
       "'M1294758098'  0           2\n",
       "               1         100\n",
       "'M1313686961'  0         242\n",
       "'M1352454843'  0         166\n",
       "'M1353266412'  0           7\n",
       "               1          29\n",
       "'M1400236507'  0         398\n",
       "'M1416436880'  0         112\n",
       "'M151143676'   0        3114\n",
       "               1          58\n",
       "'M1535107174'  0         838\n",
       "               1          79\n",
       "'M1600850729'  0        1303\n",
       "'M1649169323'  0         511\n",
       "               1          69\n",
       "'M1726401631'  0           2\n",
       "dtype: int64"
      ]
     },
     "execution_count": 380,
     "metadata": {},
     "output_type": "execute_result"
    }
   ],
   "source": [
    "size_merchant_fraud = train.groupby(['merchant_id','fraud']).size()\n",
    "size_merchant_fraud.head(20) "
   ]
  },
  {
   "cell_type": "code",
   "execution_count": 370,
   "metadata": {},
   "outputs": [
    {
     "data": {
      "text/plain": [
       "(30,)"
      ]
     },
     "execution_count": 370,
     "metadata": {},
     "output_type": "execute_result"
    }
   ],
   "source": [
    "size_merchant_fraud = frauddf.groupby(['merchant_id','fraud']).size()\n",
    "size_merchant_fraud.shape "
   ]
  },
  {
   "cell_type": "markdown",
   "metadata": {},
   "source": [
    "- There are **60%** merchants in train data have encountered fraudulent transactions. In these 30 merchants, we can see merchant 'M1294758098' has the fraud ratio 98%, while for merchant 'M1535107174' the fraud ratio is 2%. \n",
    "\n",
    "\n",
    "- Since the fraud ratio of merchants is in wide range, there are many possibilities of fraud patterns from different sources targeting diverse backgrounds' customers. The fraud patterns is hard to observe directly. "
   ]
  },
  {
   "cell_type": "markdown",
   "metadata": {},
   "source": [
    "#### customers VS. fraud"
   ]
  },
  {
   "cell_type": "code",
   "execution_count": 378,
   "metadata": {},
   "outputs": [
    {
     "data": {
      "text/plain": [
       "customer_id   fraud\n",
       "'C995746715'  0        104\n",
       "              1          2\n",
       "'C996326258'  0        125\n",
       "'C996804095'  0        172\n",
       "              1          1\n",
       "'C99729647'   0        175\n",
       "'C998690782'  0        169\n",
       "              1          2\n",
       "'C999723254'  0        121\n",
       "              1          1\n",
       "dtype: int64"
      ]
     },
     "execution_count": 378,
     "metadata": {},
     "output_type": "execute_result"
    }
   ],
   "source": [
    "size_customer_fraud = train.groupby(['customer_id','fraud']).size()\n",
    "size_customer_fraud.tail(10) "
   ]
  },
  {
   "cell_type": "code",
   "execution_count": 377,
   "metadata": {},
   "outputs": [
    {
     "data": {
      "text/plain": [
       "(740,)"
      ]
     },
     "execution_count": 377,
     "metadata": {},
     "output_type": "execute_result"
    }
   ],
   "source": [
    "size_customer_fraud = frauddf.groupby(['customer_id','fraud']).size()\n",
    "size_customer_fraud.shape "
   ]
  },
  {
   "cell_type": "code",
   "execution_count": 379,
   "metadata": {},
   "outputs": [
    {
     "data": {
      "text/plain": [
       "2056"
      ]
     },
     "execution_count": 379,
     "metadata": {},
     "output_type": "execute_result"
    }
   ],
   "source": [
    "train.customer_id.nunique()"
   ]
  },
  {
   "cell_type": "markdown",
   "metadata": {},
   "source": [
    "We have **36% of customers** in train data have encountered fraudulent transactions, which is pretty high ratio. "
   ]
  },
  {
   "cell_type": "markdown",
   "metadata": {},
   "source": [
    "story: Customers are more likely to buy again from a merchant selling snacks than from a merchant selling electronic products within time period, since snacks are cheaper and are consumed much faster than electronic products. \n"
   ]
  },
  {
   "cell_type": "markdown",
   "metadata": {},
   "source": [
    "# 2.  👨🏻‍🔧 Feature Engineering \n",
    "\n",
    "Feature engineering is a crucial step to build an effective fraud detection model that can extract patterns of fraudulent behaviours. Thus, we need to select and create useful features as input for model to better identify the behaviour patterns of customers and merchants in order to capture the hidden fraudulent behaviours.\n",
    "\n",
    "We have **customers and merchants** as entities in data. To generate features that describe these entities' characteristics and their pair-wise interactions can be useful information to predict the target feature. \n",
    "\n",
    "\n",
    "## 2.1 Selecting & transforming raw features\n",
    "Raw feature, such as **id **, is excluded in modeling part since they cannot be directly used as model inputs.  \n",
    "\n",
    "Place of the transaction including **zipcode_customer and zipcode_merchant** are removed since all customers and merchants are from the same place. \n",
    "\n",
    "We keep both numeric feature,**'amount'**, but drop **'time'**. We explained the reasons previously.\n",
    "\n",
    "We also keep categorical features, **'age_group','gender', and 'type'**, since these are background information of customers."
   ]
  },
  {
   "cell_type": "code",
   "execution_count": null,
   "metadata": {
    "collapsed": true
   },
   "outputs": [],
   "source": [
    "# normalizing numerical feature, amount \n",
    "from sklearn.preprocessing import StandardScaler\n",
    "\n",
    "df['normAmount'] = StandardScaler().fit_transform(df['amount'].reshape(-1, 1))\n",
    "df = df.drop(['amount'], axis=1)\n",
    "\n",
    "# convert a column to a category and label encoding\n",
    "df[\"age_group\"] = df[\"age_group\"].astype('category')\n",
    "df[\"type\"] = df[\"type\"].astype('category')\n",
    "df[\"gender\"] = df[\"gender\"].astype('category')\n",
    "df[\"age_group\"] = df[\"age_group\"].cat.codes\n",
    "df[\"type\"] = df[\"type\"].cat.codes\n",
    "df[\"gender\"] = df[\"gender\"].cat.codes\n",
    "\n",
    "df['merchant_id'] = df['merchant_id'].str.replace('M', '').str.replace(\"'\", '').astype(int)\n",
    "df['customer_id'] = df['customer_id'].str.replace('C', '').str.replace(\"'\", '').astype(int)\n",
    "\n",
    "# Both zipcode_customer and zipcode_merchant are value of 594643, customers and merchants are from the same place. \n",
    "# We drop these two features from dataset.\n",
    "df = df.drop(['zipcode_customer', 'zipcode_merchant'], axis=1)\n",
    "\n",
    "#save transform df to csv and then merge with embeddings\n",
    "df.to_csv('fullset.csv')"
   ]
  },
  {
   "cell_type": "markdown",
   "metadata": {},
   "source": [
    "## 2.2 Embedding merchant_id based on customer_id \n",
    "\n",
    "** GOAL: ** Create 50 vertex representations in dimensions of 16 for 50 distinct merchants based on customers' transaction behaviour  \n",
    "\n",
    "** Background: ** Node embedding methods possess three properties that are suitable to solve the major problems in recommender system composing large networks of customers, merchants, items, and other features. First, the low-dimensional vector space provides the scalability for real-world social networks to be processed in short period of time. The time-consuming and scalability problem solved. Secondly, the informatic representations can capture potential connections between vertices in low-dimensional space. The sparsity problem solved. Thirdly, the undirect-connected merchants could be recommended to customers if they are the neighbours of the customers’ favour merchants. We can efficiently measure the distance between the embedding vectors. The neighbourhoods structure problem solved.\n",
    "\n",
    "** Embedding Methods: **  In this project, merchant vertex representations are learned based on random walks under unsupervised manner. I choose simple random walk-based method, **DeepWalk**, since it is efficient for large-scale social network scenarios. Firstly, the short random walk sequences provide the concept of ‘nearness’, which helps to capture the neighbourhood structure of vertices without computing the global structure of the graph. Secondly, each short random walk sequence can efficiently be generated at the same time. \n",
    "\n",
    "** DeepWalk: ** Use Random Walk and Skip-Gram to learn potential latent neighbourhood of vertex <img src=\"DeepWalk.png\">  \n",
    "DeepWalk is a way to encode the potential relation of vertices to learn the matrix of vertex representations 𝜙: 𝑣 ∈\n",
    "𝑉 ⟼ R^(|v|*d)\" in low-dimension d (Figure e). Its input is stream of vertex sequences 𝑊 that are generated from truncated random walks (Figure c). Each vertex 𝑣 in the sequences 𝑊vi with length t, {𝑣1 ... 𝑣t}, is used to predict its contexts, which are the vertices within its window size w. Vertex 𝑣i’s contexts, also mean neighbor vertices, 𝑣i-w ... 𝑣i+w, may not link directly with 𝑣i in the original graph, but through w steps random walks in graph, these contexts indirectly link and co- occur with 𝑣i (Figure d). 𝑣i ′𝑠 local neighborhood structure then formed. If vertices have higher probability co-occur on the random walks sequence, their latent representations 𝜙 tend to be similar. \n",
    "\n",
    "\n",
    "In the DeepWalk algorithm, the outer loop is based on 𝛾, the number of starting random walks on each vertex. For instance, if 𝛾 is 2, each vertex in graph has twice times to be the starting point for random walks. The inner loop will go through all vertices in graph to make sure that each vertex is sampled for random walk at least once.\n",
    "\n",
    "\n",
    "For each vertex 𝑣i in the vertex sequences 𝑊v , **Skip-Gram** predicts 𝑣i′𝑠 context vertices, {𝑣i-w, ..., 𝑣i+w}. Given the latent representation of 𝑣i, 𝜙(𝑣i), we maximize the probability that its neighbors will co- occur (Figure d).\n",
    "\n",
    "** Further improvement:** I could also use **Node2vec** to learn embeddings since it is more flexibile random walks node embedding method with parameter p & q and the network can be presented with direction and weight."
   ]
  },
  {
   "cell_type": "markdown",
   "metadata": {},
   "source": [
    "### 2.2.1 creat adjcent list\n",
    "\n",
    "The adjcent list is created by collection of (unordered) transaction lists that each customer_id has made. They represent a finite merchant - interaction graph.\n",
    "\n",
    "Each list describes the set of neighbors (merchants that share common features in some degrees) of a vertex (merchant) in the graph (network) based on customers' behaviors."
   ]
  },
  {
   "cell_type": "code",
   "execution_count": 187,
   "metadata": {},
   "outputs": [
    {
     "data": {
      "text/plain": [
       "(594643,)"
      ]
     },
     "execution_count": 187,
     "metadata": {},
     "output_type": "execute_result"
    }
   ],
   "source": [
    "df.merchant_id.shape"
   ]
  },
  {
   "cell_type": "code",
   "execution_count": 53,
   "metadata": {},
   "outputs": [
    {
     "data": {
      "text/plain": [
       "customer_id\n",
       "'C1000148617'    [45060432, 85975013, 85975013, 85975013, 85975...\n",
       "'C100045114'     [78078399, 78078399, 78078399, 85975013, 85975...\n",
       "'C1000699316'    [85975013, 85975013, 85975013, 85975013, 85975...\n",
       "'C1001065306'    [17379832, 17379832, 50039827, 50039827, 50039...\n",
       "'C1002658784'    [17379832, 78078399, 85975013, 85975013, 85975...\n",
       "Name: merchant_id, dtype: object"
      ]
     },
     "execution_count": 53,
     "metadata": {},
     "output_type": "execute_result"
    }
   ],
   "source": [
    "subset = df[['merchant_id', 'customer_id']]\n",
    "temp1 = subset.groupby('customer_id').merchant_id.apply(lambda x: sorted(x.values))\n",
    "temp1.head()"
   ]
  },
  {
   "cell_type": "code",
   "execution_count": 54,
   "metadata": {},
   "outputs": [
    {
     "data": {
      "text/plain": [
       "131"
      ]
     },
     "execution_count": 54,
     "metadata": {},
     "output_type": "execute_result"
    }
   ],
   "source": [
    "len(list(temp1[0]))"
   ]
  },
  {
   "cell_type": "code",
   "execution_count": 55,
   "metadata": {},
   "outputs": [
    {
     "data": {
      "text/plain": [
       "customer_id              \n",
       "'C1000148617'  1823072687    92\n",
       "               348934600     22\n",
       "               85975013       5\n",
       "               1888755466     2\n",
       "               1400236507     1\n",
       "Name: merchant_id, dtype: int64"
      ]
     },
     "execution_count": 55,
     "metadata": {},
     "output_type": "execute_result"
    }
   ],
   "source": [
    "temp = df.groupby('customer_id').merchant_id.apply(lambda x: x.value_counts())\n",
    "temp.head()"
   ]
  },
  {
   "cell_type": "markdown",
   "metadata": {},
   "source": [
    " 'C1000148617' customer has made transactions with 131 merchants in history.  92 transactions from 'M1823072687', 22 transactions from 'M348934600', 8 transactions from 3 other merchants. "
   ]
  },
  {
   "cell_type": "code",
   "execution_count": 43,
   "metadata": {
    "collapsed": true
   },
   "outputs": [],
   "source": [
    "adj_l = []\n",
    "for col in fraud_unstack.columns:\n",
    "    sub = fraud_unstack[fraud_unstack[col] == 1]\n",
    "    sub = sub.drop(col,axis = 1)\n",
    "    neibours = sub.columns[sub.sum(axis = 0) != 0]\n",
    "    neibours_str = ' '.join(neibours.map(str))\n",
    "    adj_row = str(col)+' '+neibours_str\n",
    "    adj_l.append(adj_row)"
   ]
  },
  {
   "cell_type": "code",
   "execution_count": 44,
   "metadata": {},
   "outputs": [
    {
     "data": {
      "text/plain": [
       "0    3697346 17379832 45060432 50039827 78078399 85...\n",
       "1    17379832 3697346 45060432 50039827 78078399 85...\n",
       "2    45060432 3697346 17379832 50039827 78078399 85...\n",
       "3    50039827 3697346 17379832 45060432 78078399 85...\n",
       "4    78078399 3697346 17379832 45060432 50039827 85...\n",
       "dtype: object"
      ]
     },
     "execution_count": 44,
     "metadata": {},
     "output_type": "execute_result"
    }
   ],
   "source": [
    "adjlist = pd.Series(adj_l)\n",
    "adjlist.head()"
   ]
  },
  {
   "cell_type": "code",
   "execution_count": 45,
   "metadata": {},
   "outputs": [
    {
     "data": {
      "text/plain": [
       "495"
      ]
     },
     "execution_count": 45,
     "metadata": {},
     "output_type": "execute_result"
    }
   ],
   "source": [
    "len(adjlist[0])"
   ]
  },
  {
   "cell_type": "code",
   "execution_count": 46,
   "metadata": {},
   "outputs": [
    {
     "data": {
      "text/plain": [
       "'3697346 17379832 45060432 50039827 78078399 85975013 97925176 151143676 209847108 348875670 348934600 349281107 480139044 495352832 547558035 677738360 692898500 732195782 840466850 855959430 857378720 923029380 933210764 980657600 1053599405 1198415165 1294758098 1313686961 1352454843 1353266412 1400236507 1416436880 1535107174 1600850729 1649169323 1741626453 1748431652 1788569036 1823072687 1842530320 1872033263 1873032707 1888755466 1913465890 1946091778 2011752106 2080407379 2122776122'"
      ]
     },
     "execution_count": 46,
     "metadata": {},
     "output_type": "execute_result"
    }
   ],
   "source": [
    "adjlist[0]"
   ]
  },
  {
   "cell_type": "code",
   "execution_count": 47,
   "metadata": {},
   "outputs": [
    {
     "data": {
      "text/plain": [
       "pandas.core.series.Series"
      ]
     },
     "execution_count": 47,
     "metadata": {},
     "output_type": "execute_result"
    }
   ],
   "source": [
    "type(adjlist)"
   ]
  },
  {
   "cell_type": "markdown",
   "metadata": {},
   "source": [
    "customers made transactions with merchant 0 also made transactions with 638 other merchants, such as 'M1053599405' 'M117188757' 'M1198415165' 'M1294758098' 'M1313686961' 'M1352454843' 'M1353266412' 'M1400236507' 'M1416436880' 'M151143676' 'M1535107174' .... ."
   ]
  },
  {
   "cell_type": "code",
   "execution_count": 49,
   "metadata": {
    "collapsed": true
   },
   "outputs": [],
   "source": [
    "adjlist.to_csv('merchant.adjlist',index=False)"
   ]
  },
  {
   "cell_type": "markdown",
   "metadata": {},
   "source": [
    "### 2.2.2 Deepwalk Embeddings \n",
    "DeepWalk github: https://github.com/phanein/deepwalk \n",
    "\n",
    "### Parameter Setting w/ Steps\n",
    "\n",
    "--input: movies.adjlist\n",
    "--format adjlist for an adjacency list\n",
    "\n",
    "\n",
    "deepwalk  --input merchant.adjlist --number-walks 80 --representation-size 16 --walk-length 80 --window-size 10 --output merchant.embeddings\n",
    "\n",
    "Number of nodes: 50\n",
    "Number of walks: 4000\n",
    "Data size (walks*length): 320000\n",
    "Walking...\n",
    "Training...\n",
    "\n",
    "--output: Merchant.embeddings\n",
    "The output representations in skipgram format - first line is header, all other lines are node-id and d dimensional representation\n",
    "\n",
    "\n",
    "#### 🥳 Awesome  !  We get merchant.embeddings file 🍻 ! "
   ]
  },
  {
   "cell_type": "code",
   "execution_count": 10,
   "metadata": {},
   "outputs": [
    {
     "data": {
      "text/plain": [
       "(50, 17)"
      ]
     },
     "execution_count": 10,
     "metadata": {},
     "output_type": "execute_result"
    }
   ],
   "source": [
    "embeddings = pd.read_csv('merchant.embeddings',delimiter=' ',header = None, skiprows=[0])\n",
    "embeddings = embeddings.rename(columns = {0: 'merchant_id'})\n",
    "embeddings.columns = ['embedded_'+str(i) for i in embeddings.columns]\n",
    "#embeddings = embeddings.set_index('MovieID')\n",
    "embeddings.shape"
   ]
  },
  {
   "cell_type": "code",
   "execution_count": 11,
   "metadata": {},
   "outputs": [
    {
     "data": {
      "text/html": [
       "<div>\n",
       "<style>\n",
       "    .dataframe thead tr:only-child th {\n",
       "        text-align: right;\n",
       "    }\n",
       "\n",
       "    .dataframe thead th {\n",
       "        text-align: left;\n",
       "    }\n",
       "\n",
       "    .dataframe tbody tr th {\n",
       "        vertical-align: top;\n",
       "    }\n",
       "</style>\n",
       "<table border=\"1\" class=\"dataframe\">\n",
       "  <thead>\n",
       "    <tr style=\"text-align: right;\">\n",
       "      <th></th>\n",
       "      <th>merchant_id</th>\n",
       "      <th>embedded_1</th>\n",
       "      <th>embedded_2</th>\n",
       "      <th>embedded_3</th>\n",
       "      <th>embedded_4</th>\n",
       "      <th>embedded_5</th>\n",
       "      <th>embedded_6</th>\n",
       "      <th>embedded_7</th>\n",
       "      <th>embedded_8</th>\n",
       "      <th>embedded_9</th>\n",
       "      <th>embedded_10</th>\n",
       "      <th>embedded_11</th>\n",
       "      <th>embedded_12</th>\n",
       "      <th>embedded_13</th>\n",
       "      <th>embedded_14</th>\n",
       "      <th>embedded_15</th>\n",
       "      <th>embedded_16</th>\n",
       "    </tr>\n",
       "  </thead>\n",
       "  <tbody>\n",
       "    <tr>\n",
       "      <th>45</th>\n",
       "      <td>1353266412</td>\n",
       "      <td>-0.031741</td>\n",
       "      <td>-0.153732</td>\n",
       "      <td>0.170732</td>\n",
       "      <td>-0.158606</td>\n",
       "      <td>-0.159732</td>\n",
       "      <td>0.075313</td>\n",
       "      <td>-0.096302</td>\n",
       "      <td>0.241374</td>\n",
       "      <td>0.159765</td>\n",
       "      <td>-0.063444</td>\n",
       "      <td>0.053756</td>\n",
       "      <td>-0.109712</td>\n",
       "      <td>-0.213686</td>\n",
       "      <td>-0.106282</td>\n",
       "      <td>-0.103340</td>\n",
       "      <td>0.156456</td>\n",
       "    </tr>\n",
       "    <tr>\n",
       "      <th>46</th>\n",
       "      <td>1416436880</td>\n",
       "      <td>-0.117973</td>\n",
       "      <td>-0.166427</td>\n",
       "      <td>0.215208</td>\n",
       "      <td>-0.060880</td>\n",
       "      <td>-0.149168</td>\n",
       "      <td>0.080850</td>\n",
       "      <td>0.002842</td>\n",
       "      <td>0.317571</td>\n",
       "      <td>0.227112</td>\n",
       "      <td>-0.150894</td>\n",
       "      <td>0.011594</td>\n",
       "      <td>-0.025987</td>\n",
       "      <td>-0.118185</td>\n",
       "      <td>-0.084987</td>\n",
       "      <td>-0.056226</td>\n",
       "      <td>0.166676</td>\n",
       "    </tr>\n",
       "    <tr>\n",
       "      <th>47</th>\n",
       "      <td>933210764</td>\n",
       "      <td>-0.126865</td>\n",
       "      <td>-0.118701</td>\n",
       "      <td>0.197929</td>\n",
       "      <td>-0.238377</td>\n",
       "      <td>-0.093262</td>\n",
       "      <td>0.013161</td>\n",
       "      <td>0.020054</td>\n",
       "      <td>0.183036</td>\n",
       "      <td>0.189182</td>\n",
       "      <td>-0.099792</td>\n",
       "      <td>0.040660</td>\n",
       "      <td>-0.088138</td>\n",
       "      <td>-0.345363</td>\n",
       "      <td>-0.080750</td>\n",
       "      <td>-0.073636</td>\n",
       "      <td>0.130643</td>\n",
       "    </tr>\n",
       "    <tr>\n",
       "      <th>48</th>\n",
       "      <td>117188757</td>\n",
       "      <td>-0.029902</td>\n",
       "      <td>-0.248048</td>\n",
       "      <td>0.147398</td>\n",
       "      <td>-0.148597</td>\n",
       "      <td>-0.215629</td>\n",
       "      <td>0.136755</td>\n",
       "      <td>-0.073142</td>\n",
       "      <td>0.188593</td>\n",
       "      <td>0.278521</td>\n",
       "      <td>-0.050181</td>\n",
       "      <td>-0.002270</td>\n",
       "      <td>0.002896</td>\n",
       "      <td>-0.207627</td>\n",
       "      <td>0.048820</td>\n",
       "      <td>-0.040075</td>\n",
       "      <td>0.231067</td>\n",
       "    </tr>\n",
       "    <tr>\n",
       "      <th>49</th>\n",
       "      <td>1726401631</td>\n",
       "      <td>-0.093656</td>\n",
       "      <td>-0.157700</td>\n",
       "      <td>0.098084</td>\n",
       "      <td>-0.115230</td>\n",
       "      <td>-0.297723</td>\n",
       "      <td>0.152683</td>\n",
       "      <td>-0.166218</td>\n",
       "      <td>0.105166</td>\n",
       "      <td>0.156830</td>\n",
       "      <td>-0.067620</td>\n",
       "      <td>0.006551</td>\n",
       "      <td>-0.055503</td>\n",
       "      <td>-0.188464</td>\n",
       "      <td>-0.222137</td>\n",
       "      <td>-0.082856</td>\n",
       "      <td>0.269031</td>\n",
       "    </tr>\n",
       "  </tbody>\n",
       "</table>\n",
       "</div>"
      ],
      "text/plain": [
       "    merchant_id  embedded_1  embedded_2  embedded_3  embedded_4  embedded_5  \\\n",
       "45   1353266412   -0.031741   -0.153732    0.170732   -0.158606   -0.159732   \n",
       "46   1416436880   -0.117973   -0.166427    0.215208   -0.060880   -0.149168   \n",
       "47    933210764   -0.126865   -0.118701    0.197929   -0.238377   -0.093262   \n",
       "48    117188757   -0.029902   -0.248048    0.147398   -0.148597   -0.215629   \n",
       "49   1726401631   -0.093656   -0.157700    0.098084   -0.115230   -0.297723   \n",
       "\n",
       "    embedded_6  embedded_7  embedded_8  embedded_9  embedded_10  embedded_11  \\\n",
       "45    0.075313   -0.096302    0.241374    0.159765    -0.063444     0.053756   \n",
       "46    0.080850    0.002842    0.317571    0.227112    -0.150894     0.011594   \n",
       "47    0.013161    0.020054    0.183036    0.189182    -0.099792     0.040660   \n",
       "48    0.136755   -0.073142    0.188593    0.278521    -0.050181    -0.002270   \n",
       "49    0.152683   -0.166218    0.105166    0.156830    -0.067620     0.006551   \n",
       "\n",
       "    embedded_12  embedded_13  embedded_14  embedded_15  embedded_16  \n",
       "45    -0.109712    -0.213686    -0.106282    -0.103340     0.156456  \n",
       "46    -0.025987    -0.118185    -0.084987    -0.056226     0.166676  \n",
       "47    -0.088138    -0.345363    -0.080750    -0.073636     0.130643  \n",
       "48     0.002896    -0.207627     0.048820    -0.040075     0.231067  \n",
       "49    -0.055503    -0.188464    -0.222137    -0.082856     0.269031  "
      ]
     },
     "execution_count": 11,
     "metadata": {},
     "output_type": "execute_result"
    }
   ],
   "source": [
    "embeddings = embeddings.rename(columns = {'embedded_merchant_id':'merchant_id'})\n",
    "embeddings.tail()"
   ]
  },
  {
   "cell_type": "markdown",
   "metadata": {},
   "source": [
    "DeepWalk maps 50 merchants into 50 low-dim vertex representations (dim of 16)"
   ]
  },
  {
   "cell_type": "markdown",
   "metadata": {},
   "source": [
    "### 2.3 Creating useful features"
   ]
  },
  {
   "cell_type": "code",
   "execution_count": 52,
   "metadata": {
    "collapsed": true
   },
   "outputs": [],
   "source": [
    "import pandas as pd\n",
    "FEdf = pd.read_csv('fullset.csv')"
   ]
  },
  {
   "cell_type": "markdown",
   "metadata": {},
   "source": [
    "#### get gender ratio for each merchant"
   ]
  },
  {
   "cell_type": "code",
   "execution_count": 3,
   "metadata": {},
   "outputs": [
    {
     "data": {
      "text/html": [
       "<div>\n",
       "<style>\n",
       "    .dataframe thead tr:only-child th {\n",
       "        text-align: right;\n",
       "    }\n",
       "\n",
       "    .dataframe thead th {\n",
       "        text-align: left;\n",
       "    }\n",
       "\n",
       "    .dataframe tbody tr th {\n",
       "        vertical-align: top;\n",
       "    }\n",
       "</style>\n",
       "<table border=\"1\" class=\"dataframe\">\n",
       "  <thead>\n",
       "    <tr style=\"text-align: right;\">\n",
       "      <th></th>\n",
       "      <th>merchant_id</th>\n",
       "      <th>gender_0</th>\n",
       "      <th>gender_1</th>\n",
       "      <th>gender_2</th>\n",
       "      <th>gender_3</th>\n",
       "    </tr>\n",
       "  </thead>\n",
       "  <tbody>\n",
       "    <tr>\n",
       "      <th>0</th>\n",
       "      <td>3697346</td>\n",
       "      <td>0.000000</td>\n",
       "      <td>0.626623</td>\n",
       "      <td>0.373377</td>\n",
       "      <td>0.0</td>\n",
       "    </tr>\n",
       "    <tr>\n",
       "      <th>1</th>\n",
       "      <td>17379832</td>\n",
       "      <td>0.003546</td>\n",
       "      <td>0.652482</td>\n",
       "      <td>0.343972</td>\n",
       "      <td>0.0</td>\n",
       "    </tr>\n",
       "    <tr>\n",
       "      <th>2</th>\n",
       "      <td>45060432</td>\n",
       "      <td>0.005236</td>\n",
       "      <td>0.525305</td>\n",
       "      <td>0.469459</td>\n",
       "      <td>0.0</td>\n",
       "    </tr>\n",
       "    <tr>\n",
       "      <th>3</th>\n",
       "      <td>50039827</td>\n",
       "      <td>0.004367</td>\n",
       "      <td>0.603712</td>\n",
       "      <td>0.391921</td>\n",
       "      <td>0.0</td>\n",
       "    </tr>\n",
       "    <tr>\n",
       "      <th>4</th>\n",
       "      <td>78078399</td>\n",
       "      <td>0.002488</td>\n",
       "      <td>0.559701</td>\n",
       "      <td>0.437811</td>\n",
       "      <td>0.0</td>\n",
       "    </tr>\n",
       "  </tbody>\n",
       "</table>\n",
       "</div>"
      ],
      "text/plain": [
       "   merchant_id  gender_0  gender_1  gender_2  gender_3\n",
       "0      3697346  0.000000  0.626623  0.373377       0.0\n",
       "1     17379832  0.003546  0.652482  0.343972       0.0\n",
       "2     45060432  0.005236  0.525305  0.469459       0.0\n",
       "3     50039827  0.004367  0.603712  0.391921       0.0\n",
       "4     78078399  0.002488  0.559701  0.437811       0.0"
      ]
     },
     "execution_count": 3,
     "metadata": {},
     "output_type": "execute_result"
    }
   ],
   "source": [
    "genders = FEdf[['merchant_id','gender']]\n",
    "genders = genders.groupby('merchant_id').gender.apply(lambda x: x.value_counts()/len(x.values)).unstack().fillna(0.0)\n",
    "genders.columns = ['gender_'+str(i) for i in genders.columns]\n",
    "genders = genders.reset_index()\n",
    "genders.head()"
   ]
  },
  {
   "cell_type": "markdown",
   "metadata": {},
   "source": [
    "#### get age distribution for each merchant"
   ]
  },
  {
   "cell_type": "code",
   "execution_count": 14,
   "metadata": {},
   "outputs": [
    {
     "data": {
      "text/html": [
       "<div>\n",
       "<style>\n",
       "    .dataframe thead tr:only-child th {\n",
       "        text-align: right;\n",
       "    }\n",
       "\n",
       "    .dataframe thead th {\n",
       "        text-align: left;\n",
       "    }\n",
       "\n",
       "    .dataframe tbody tr th {\n",
       "        vertical-align: top;\n",
       "    }\n",
       "</style>\n",
       "<table border=\"1\" class=\"dataframe\">\n",
       "  <thead>\n",
       "    <tr style=\"text-align: right;\">\n",
       "      <th></th>\n",
       "      <th>merchant_id</th>\n",
       "      <th>ages_0</th>\n",
       "      <th>ages_1</th>\n",
       "      <th>ages_2</th>\n",
       "      <th>ages_3</th>\n",
       "      <th>ages_4</th>\n",
       "      <th>ages_5</th>\n",
       "      <th>ages_6</th>\n",
       "      <th>ages_7</th>\n",
       "    </tr>\n",
       "  </thead>\n",
       "  <tbody>\n",
       "    <tr>\n",
       "      <th>0</th>\n",
       "      <td>3697346</td>\n",
       "      <td>0.009740</td>\n",
       "      <td>0.116883</td>\n",
       "      <td>0.250000</td>\n",
       "      <td>0.295455</td>\n",
       "      <td>0.172078</td>\n",
       "      <td>0.110390</td>\n",
       "      <td>0.045455</td>\n",
       "      <td>0.000000</td>\n",
       "    </tr>\n",
       "    <tr>\n",
       "      <th>1</th>\n",
       "      <td>17379832</td>\n",
       "      <td>0.003546</td>\n",
       "      <td>0.095745</td>\n",
       "      <td>0.336879</td>\n",
       "      <td>0.219858</td>\n",
       "      <td>0.177305</td>\n",
       "      <td>0.106383</td>\n",
       "      <td>0.056738</td>\n",
       "      <td>0.003546</td>\n",
       "    </tr>\n",
       "    <tr>\n",
       "      <th>2</th>\n",
       "      <td>45060432</td>\n",
       "      <td>0.000000</td>\n",
       "      <td>0.099476</td>\n",
       "      <td>0.319372</td>\n",
       "      <td>0.253054</td>\n",
       "      <td>0.188482</td>\n",
       "      <td>0.101222</td>\n",
       "      <td>0.033159</td>\n",
       "      <td>0.005236</td>\n",
       "    </tr>\n",
       "  </tbody>\n",
       "</table>\n",
       "</div>"
      ],
      "text/plain": [
       "   merchant_id    ages_0    ages_1    ages_2    ages_3    ages_4    ages_5  \\\n",
       "0      3697346  0.009740  0.116883  0.250000  0.295455  0.172078  0.110390   \n",
       "1     17379832  0.003546  0.095745  0.336879  0.219858  0.177305  0.106383   \n",
       "2     45060432  0.000000  0.099476  0.319372  0.253054  0.188482  0.101222   \n",
       "\n",
       "     ages_6    ages_7  \n",
       "0  0.045455  0.000000  \n",
       "1  0.056738  0.003546  \n",
       "2  0.033159  0.005236  "
      ]
     },
     "execution_count": 14,
     "metadata": {},
     "output_type": "execute_result"
    }
   ],
   "source": [
    "ages = FEdf[['merchant_id','age_group']]\n",
    "ages = ages.groupby('merchant_id').age_group.apply(lambda x: x.value_counts()/len(x.values)).unstack().fillna(0.0)\n",
    "ages.columns = ['ages_'+str(i) for i in ages.columns]\n",
    "ages = ages.reset_index()\n",
    "ages.head(3)"
   ]
  },
  {
   "cell_type": "markdown",
   "metadata": {},
   "source": [
    "#### get fraud ratio for each merchant"
   ]
  },
  {
   "cell_type": "code",
   "execution_count": 15,
   "metadata": {
    "scrolled": false
   },
   "outputs": [
    {
     "data": {
      "text/html": [
       "<div>\n",
       "<style>\n",
       "    .dataframe thead tr:only-child th {\n",
       "        text-align: right;\n",
       "    }\n",
       "\n",
       "    .dataframe thead th {\n",
       "        text-align: left;\n",
       "    }\n",
       "\n",
       "    .dataframe tbody tr th {\n",
       "        vertical-align: top;\n",
       "    }\n",
       "</style>\n",
       "<table border=\"1\" class=\"dataframe\">\n",
       "  <thead>\n",
       "    <tr style=\"text-align: right;\">\n",
       "      <th></th>\n",
       "      <th>merchant_id</th>\n",
       "      <th>fraud_0.0</th>\n",
       "      <th>fraud_1.0</th>\n",
       "    </tr>\n",
       "  </thead>\n",
       "  <tbody>\n",
       "    <tr>\n",
       "      <th>0</th>\n",
       "      <td>3697346</td>\n",
       "      <td>0.042857</td>\n",
       "      <td>0.957143</td>\n",
       "    </tr>\n",
       "    <tr>\n",
       "      <th>1</th>\n",
       "      <td>17379832</td>\n",
       "      <td>0.373239</td>\n",
       "      <td>0.626761</td>\n",
       "    </tr>\n",
       "    <tr>\n",
       "      <th>2</th>\n",
       "      <td>45060432</td>\n",
       "      <td>1.000000</td>\n",
       "      <td>0.000000</td>\n",
       "    </tr>\n",
       "    <tr>\n",
       "      <th>3</th>\n",
       "      <td>50039827</td>\n",
       "      <td>0.959459</td>\n",
       "      <td>0.040541</td>\n",
       "    </tr>\n",
       "    <tr>\n",
       "      <th>4</th>\n",
       "      <td>78078399</td>\n",
       "      <td>0.981906</td>\n",
       "      <td>0.018094</td>\n",
       "    </tr>\n",
       "  </tbody>\n",
       "</table>\n",
       "</div>"
      ],
      "text/plain": [
       "   merchant_id  fraud_0.0  fraud_1.0\n",
       "0      3697346   0.042857   0.957143\n",
       "1     17379832   0.373239   0.626761\n",
       "2     45060432   1.000000   0.000000\n",
       "3     50039827   0.959459   0.040541\n",
       "4     78078399   0.981906   0.018094"
      ]
     },
     "execution_count": 15,
     "metadata": {},
     "output_type": "execute_result"
    }
   ],
   "source": [
    "fraud = FEdf[['merchant_id','fraud']].dropna(subset = ['fraud'])\n",
    "fraud = fraud.groupby('merchant_id').fraud.apply(lambda x: x.value_counts()/len(x.values)).unstack().fillna(0.0)\n",
    "fraud.columns = ['fraud_'+str(i) for i in fraud.columns]\n",
    "fraud = fraud.reset_index()\n",
    "fraud.head()\n",
    "#len(fraud) is 50. All merchants are in train set  "
   ]
  },
  {
   "cell_type": "markdown",
   "metadata": {},
   "source": [
    "#### customer features"
   ]
  },
  {
   "cell_type": "code",
   "execution_count": 16,
   "metadata": {},
   "outputs": [
    {
     "data": {
      "text/html": [
       "<div>\n",
       "<style>\n",
       "    .dataframe thead tr:only-child th {\n",
       "        text-align: right;\n",
       "    }\n",
       "\n",
       "    .dataframe thead th {\n",
       "        text-align: left;\n",
       "    }\n",
       "\n",
       "    .dataframe tbody tr th {\n",
       "        vertical-align: top;\n",
       "    }\n",
       "</style>\n",
       "<table border=\"1\" class=\"dataframe\">\n",
       "  <thead>\n",
       "    <tr style=\"text-align: right;\">\n",
       "      <th></th>\n",
       "      <th>customer_id</th>\n",
       "      <th>transaction_num</th>\n",
       "    </tr>\n",
       "  </thead>\n",
       "  <tbody>\n",
       "    <tr>\n",
       "      <th>0</th>\n",
       "      <td>1734879586</td>\n",
       "      <td>178</td>\n",
       "    </tr>\n",
       "    <tr>\n",
       "      <th>1</th>\n",
       "      <td>1896147467</td>\n",
       "      <td>160</td>\n",
       "    </tr>\n",
       "    <tr>\n",
       "      <th>2</th>\n",
       "      <td>1590346257</td>\n",
       "      <td>169</td>\n",
       "    </tr>\n",
       "    <tr>\n",
       "      <th>3</th>\n",
       "      <td>16891369</td>\n",
       "      <td>168</td>\n",
       "    </tr>\n",
       "    <tr>\n",
       "      <th>4</th>\n",
       "      <td>635222317</td>\n",
       "      <td>175</td>\n",
       "    </tr>\n",
       "  </tbody>\n",
       "</table>\n",
       "</div>"
      ],
      "text/plain": [
       "   customer_id  transaction_num\n",
       "0   1734879586              178\n",
       "1   1896147467              160\n",
       "2   1590346257              169\n",
       "3     16891369              168\n",
       "4    635222317              175"
      ]
     },
     "execution_count": 16,
     "metadata": {},
     "output_type": "execute_result"
    }
   ],
   "source": [
    "usersdf = FEdf[['customer_id','merchant_id']]\n",
    "transaction_num = usersdf.groupby('customer_id').merchant_id.count()\n",
    "\n",
    "users_features = pd.get_dummies(usersdf.set_index('customer_id'))\n",
    "\n",
    "users_features['transaction_num'] = transaction_num \n",
    "\n",
    "users_features = users_features.drop('merchant_id',axis = 1).reset_index()\n",
    "users_features.head() "
   ]
  },
  {
   "cell_type": "markdown",
   "metadata": {},
   "source": [
    "#### Merge selected raw features, embeddings and created features"
   ]
  },
  {
   "cell_type": "code",
   "execution_count": 24,
   "metadata": {
    "collapsed": true
   },
   "outputs": [],
   "source": [
    "merchant_features = (embeddings.merge(genders,left_on = 'merchant_id',right_on = 'merchant_id',how = 'left')\n",
    "                 .merge(ages,left_on = 'merchant_id',right_on = 'merchant_id',how = 'left')\n",
    "                 .merge(fraud,left_on = 'merchant_id',right_on = 'merchant_id',how = 'left'))\n",
    "\n",
    "full_set = FEdf.merge(merchant_features,left_on = 'merchant_id',right_on = 'merchant_id',how = 'left')\n",
    "full_set = full_set.drop(['Unnamed: 0','id'],axis = 1)\n",
    "\n",
    "full_set.to_csv('feature_set_embed.csv',index = False) "
   ]
  },
  {
   "cell_type": "markdown",
   "metadata": {},
   "source": [
    "## 3. 👩🏻‍🔬  Transaction Fraud Detection Model \n",
    "\n",
    "**🧪 Assumption:** We assume fraudulent transaction occurs is not depending on 'time'.\n",
    "\n",
    "\n",
    "*NOTE: At first, I assumed fraudulent transaction is depending on time so I try RNN. However, the result performance is extremely worse. It might be that there are only 180 time periods in data, and I am not sure which transactions happened first in each period. I just simplied sort the data by 'time'. However, 'time' features definitely need further investigation if we can gather more sufficient infomation.  "
   ]
  },
  {
   "cell_type": "markdown",
   "metadata": {},
   "source": [
    "####  load  'feature_set_embed.csv' that contains all the features as input for our models"
   ]
  },
  {
   "cell_type": "code",
   "execution_count": 26,
   "metadata": {},
   "outputs": [
    {
     "data": {
      "text/html": [
       "<div>\n",
       "<style>\n",
       "    .dataframe thead tr:only-child th {\n",
       "        text-align: right;\n",
       "    }\n",
       "\n",
       "    .dataframe thead th {\n",
       "        text-align: left;\n",
       "    }\n",
       "\n",
       "    .dataframe tbody tr th {\n",
       "        vertical-align: top;\n",
       "    }\n",
       "</style>\n",
       "<table border=\"1\" class=\"dataframe\">\n",
       "  <thead>\n",
       "    <tr style=\"text-align: right;\">\n",
       "      <th></th>\n",
       "      <th>age_group</th>\n",
       "      <th>customer_id</th>\n",
       "      <th>fraud</th>\n",
       "      <th>gender</th>\n",
       "      <th>merchant_id</th>\n",
       "      <th>time</th>\n",
       "      <th>type</th>\n",
       "      <th>normAmount</th>\n",
       "      <th>embedded_1</th>\n",
       "      <th>embedded_2</th>\n",
       "      <th>...</th>\n",
       "      <th>ages_0</th>\n",
       "      <th>ages_1</th>\n",
       "      <th>ages_2</th>\n",
       "      <th>ages_3</th>\n",
       "      <th>ages_4</th>\n",
       "      <th>ages_5</th>\n",
       "      <th>ages_6</th>\n",
       "      <th>ages_7</th>\n",
       "      <th>fraud_0.0</th>\n",
       "      <th>fraud_1.0</th>\n",
       "    </tr>\n",
       "  </thead>\n",
       "  <tbody>\n",
       "    <tr>\n",
       "      <th>0</th>\n",
       "      <td>1</td>\n",
       "      <td>1734879586</td>\n",
       "      <td>0.0</td>\n",
       "      <td>1</td>\n",
       "      <td>348934600</td>\n",
       "      <td>18</td>\n",
       "      <td>12</td>\n",
       "      <td>-0.124411</td>\n",
       "      <td>-0.032155</td>\n",
       "      <td>-0.166616</td>\n",
       "      <td>...</td>\n",
       "      <td>0.003300</td>\n",
       "      <td>0.094813</td>\n",
       "      <td>0.322072</td>\n",
       "      <td>0.236036</td>\n",
       "      <td>0.182153</td>\n",
       "      <td>0.10912</td>\n",
       "      <td>0.050563</td>\n",
       "      <td>0.001942</td>\n",
       "      <td>1.0</td>\n",
       "      <td>0.0</td>\n",
       "    </tr>\n",
       "    <tr>\n",
       "      <th>1</th>\n",
       "      <td>2</td>\n",
       "      <td>1896147467</td>\n",
       "      <td>0.0</td>\n",
       "      <td>1</td>\n",
       "      <td>1823072687</td>\n",
       "      <td>125</td>\n",
       "      <td>12</td>\n",
       "      <td>0.028637</td>\n",
       "      <td>-0.132469</td>\n",
       "      <td>-0.209461</td>\n",
       "      <td>...</td>\n",
       "      <td>0.004278</td>\n",
       "      <td>0.100029</td>\n",
       "      <td>0.309864</td>\n",
       "      <td>0.254324</td>\n",
       "      <td>0.183681</td>\n",
       "      <td>0.10404</td>\n",
       "      <td>0.041863</td>\n",
       "      <td>0.001922</td>\n",
       "      <td>1.0</td>\n",
       "      <td>0.0</td>\n",
       "    </tr>\n",
       "    <tr>\n",
       "      <th>2</th>\n",
       "      <td>1</td>\n",
       "      <td>1590346257</td>\n",
       "      <td>0.0</td>\n",
       "      <td>1</td>\n",
       "      <td>348934600</td>\n",
       "      <td>7</td>\n",
       "      <td>12</td>\n",
       "      <td>-0.002691</td>\n",
       "      <td>-0.032155</td>\n",
       "      <td>-0.166616</td>\n",
       "      <td>...</td>\n",
       "      <td>0.003300</td>\n",
       "      <td>0.094813</td>\n",
       "      <td>0.322072</td>\n",
       "      <td>0.236036</td>\n",
       "      <td>0.182153</td>\n",
       "      <td>0.10912</td>\n",
       "      <td>0.050563</td>\n",
       "      <td>0.001942</td>\n",
       "      <td>1.0</td>\n",
       "      <td>0.0</td>\n",
       "    </tr>\n",
       "    <tr>\n",
       "      <th>3</th>\n",
       "      <td>3</td>\n",
       "      <td>16891369</td>\n",
       "      <td>0.0</td>\n",
       "      <td>2</td>\n",
       "      <td>348934600</td>\n",
       "      <td>66</td>\n",
       "      <td>12</td>\n",
       "      <td>0.122979</td>\n",
       "      <td>-0.032155</td>\n",
       "      <td>-0.166616</td>\n",
       "      <td>...</td>\n",
       "      <td>0.003300</td>\n",
       "      <td>0.094813</td>\n",
       "      <td>0.322072</td>\n",
       "      <td>0.236036</td>\n",
       "      <td>0.182153</td>\n",
       "      <td>0.10912</td>\n",
       "      <td>0.050563</td>\n",
       "      <td>0.001942</td>\n",
       "      <td>1.0</td>\n",
       "      <td>0.0</td>\n",
       "    </tr>\n",
       "    <tr>\n",
       "      <th>4</th>\n",
       "      <td>3</td>\n",
       "      <td>635222317</td>\n",
       "      <td>0.0</td>\n",
       "      <td>1</td>\n",
       "      <td>1823072687</td>\n",
       "      <td>140</td>\n",
       "      <td>12</td>\n",
       "      <td>-0.159060</td>\n",
       "      <td>-0.132469</td>\n",
       "      <td>-0.209461</td>\n",
       "      <td>...</td>\n",
       "      <td>0.004278</td>\n",
       "      <td>0.100029</td>\n",
       "      <td>0.309864</td>\n",
       "      <td>0.254324</td>\n",
       "      <td>0.183681</td>\n",
       "      <td>0.10404</td>\n",
       "      <td>0.041863</td>\n",
       "      <td>0.001922</td>\n",
       "      <td>1.0</td>\n",
       "      <td>0.0</td>\n",
       "    </tr>\n",
       "  </tbody>\n",
       "</table>\n",
       "<p>5 rows × 38 columns</p>\n",
       "</div>"
      ],
      "text/plain": [
       "   age_group  customer_id  fraud  gender  merchant_id  time  type  normAmount  \\\n",
       "0          1   1734879586    0.0       1    348934600    18    12   -0.124411   \n",
       "1          2   1896147467    0.0       1   1823072687   125    12    0.028637   \n",
       "2          1   1590346257    0.0       1    348934600     7    12   -0.002691   \n",
       "3          3     16891369    0.0       2    348934600    66    12    0.122979   \n",
       "4          3    635222317    0.0       1   1823072687   140    12   -0.159060   \n",
       "\n",
       "   embedded_1  embedded_2    ...        ages_0    ages_1    ages_2    ages_3  \\\n",
       "0   -0.032155   -0.166616    ...      0.003300  0.094813  0.322072  0.236036   \n",
       "1   -0.132469   -0.209461    ...      0.004278  0.100029  0.309864  0.254324   \n",
       "2   -0.032155   -0.166616    ...      0.003300  0.094813  0.322072  0.236036   \n",
       "3   -0.032155   -0.166616    ...      0.003300  0.094813  0.322072  0.236036   \n",
       "4   -0.132469   -0.209461    ...      0.004278  0.100029  0.309864  0.254324   \n",
       "\n",
       "     ages_4   ages_5    ages_6    ages_7  fraud_0.0  fraud_1.0  \n",
       "0  0.182153  0.10912  0.050563  0.001942        1.0        0.0  \n",
       "1  0.183681  0.10404  0.041863  0.001922        1.0        0.0  \n",
       "2  0.182153  0.10912  0.050563  0.001942        1.0        0.0  \n",
       "3  0.182153  0.10912  0.050563  0.001942        1.0        0.0  \n",
       "4  0.183681  0.10404  0.041863  0.001922        1.0        0.0  \n",
       "\n",
       "[5 rows x 38 columns]"
      ]
     },
     "execution_count": 26,
     "metadata": {},
     "output_type": "execute_result"
    }
   ],
   "source": [
    "import pandas as pd\n",
    "import numpy as np\n",
    "import matplotlib.pyplot as plt\n",
    "%matplotlib inline\n",
    "import warnings\n",
    "warnings.filterwarnings('ignore')\n",
    "\n",
    "modeldf = pd.read_csv('feature_set_embed.csv')\n",
    "modeldf.head()"
   ]
  },
  {
   "cell_type": "markdown",
   "metadata": {},
   "source": [
    "**NOTE** : evaluating the score of test set isn't available since real **y_test** isn't provided. However, we can split the orginial train set into 80% train and 20% valid and then evaluate the score of valid set."
   ]
  },
  {
   "cell_type": "code",
   "execution_count": 27,
   "metadata": {
    "collapsed": true
   },
   "outputs": [],
   "source": [
    "# drop 'time'\n",
    "modeldf = modeldf.drop('time',axis = 1)\n",
    "\n",
    "# split into train, valid and test\n",
    "from sklearn.model_selection import train_test_split\n",
    "train_new = modeldf[:296508]\n",
    "Ytrain = train_new['fraud'] \n",
    "Xtrain = train_new.drop('fraud',axis = 1)\n",
    "\n",
    "X_train, X_valid, y_train, y_valid = train_test_split(Xtrain, Ytrain, test_size = 0.2 , random_state = 42)\n",
    "\n",
    "X_testdf = modeldf[296508 :].drop('fraud',axis = 1)\n",
    "X_test = modeldf[296508 :].drop('fraud',axis = 1)\n",
    "\n",
    "# X_valid.shape  (59302, 36)\n",
    "# X_train.shape  (237206, 36)\n",
    "# X_test.shape   (298135, 36)\n",
    "\n",
    "X_testdf = X_testdf.reset_index() # later will merge with y_predicted "
   ]
  },
  {
   "cell_type": "markdown",
   "metadata": {},
   "source": [
    "###  3.1 Resampling methods for imbalanced data \n",
    "- Undersampling : reduces samples from the majority class\n",
    "\n",
    "- Oversampling : add samples to the minority class\n",
    "\n",
    "We apply one of the oversampling methods, **Synthetic Minority Over-sampling Technique (SMOTE)**, since it creates new synthetic fraud samples that are similar to the existing ones by 𝑘-nearest neighbours approach rather than just copies the existing ones. <img src=\"Oversampling_SMOTE.png\"> \n",
    "\n",
    "🍻 We make the ratio of label 1.0 in train set from **1.2% to 50%**. 🥰 The imbalance problem solved."
   ]
  },
  {
   "cell_type": "code",
   "execution_count": 28,
   "metadata": {
    "collapsed": true
   },
   "outputs": [],
   "source": [
    "# apply  SMOTE to train set\n",
    "from imblearn.over_sampling import SMOTE\n",
    "method = SMOTE(kind='borderline2')\n",
    "S_X_train, S_y_train = method.fit_sample(X_train, y_train)\n",
    "\n",
    "# check count of non-fraud vs fraud\n",
    "unique, counts = np.unique(y_train, return_counts=True) # (array([0., 1.]), array([234431,   2775]))\n",
    "\n",
    "# check count of non-fraud vs fraud after applying SMOTE\n",
    "unique, counts = np.unique(S_y_train, return_counts=True) #(array([0., 1.]), array([234431, 234430]))"
   ]
  },
  {
   "cell_type": "markdown",
   "metadata": {},
   "source": [
    "### 3.2 Evaluation metrics \n",
    "In the case of fraud detection, \n",
    "\n",
    "- ** False Positives OK 👌. **  It is OK if we accidentally detect some transactions that are not fraud. In other words, we are not very interested in how the model performs on the non-fraudulent transactions (labeled as negative). However, it is also annoying if we are sending out too many notifications about their transactions without them being fraud. Thus, we also don’t want to sacrificing too much **precision** TP / (TP + **FP**).\n",
    "     \n",
    "\n",
    "- ** False Negatives NOT OK 😢. ** Out of all the fraudulent transactions (labeled as positive), we need to correctly detect them as fraud. It is NOT OK to miss detecting fraud one as non-fraud. Thus, this is a model that care more about **recall**. We focus on TP/(TP + **FN**) % of the fraudent transactions were retrieved.\n",
    "\n",
    "\n",
    "#### Metric: \n",
    "\n",
    "- **PR AUC, average_precision_score :** Average Precision (AP) Score document retrieval.  AP summarizes a precision-recall curve as the weighted mean of precisions achieved at each threshold, with the increase in recall from the previous threshold used as the weight. <img src=\"AP.png\"> \n",
    "\n",
    "Overall, we don't care how many of the **negative predictions** are correct, but we want as many as the **positive predictions** are correct. "
   ]
  },
  {
   "cell_type": "code",
   "execution_count": 29,
   "metadata": {
    "collapsed": true
   },
   "outputs": [],
   "source": [
    "from sklearn.metrics import confusion_matrix\n",
    "from sklearn.metrics import average_precision_score\n",
    "\n",
    "\n",
    "def metric(classifier,predictions, scores):\n",
    "    cm = confusion_matrix(y_valid, predictions)\n",
    "    \n",
    "    tn, fp, fn, tp = cm.ravel()\n",
    "\n",
    "    recall = tp / (tp + fn)\n",
    "    precision = tp / (tp + fp)\n",
    "    F1 = 2*recall*precision/(recall + precision)\n",
    "    \n",
    "    average_precision = average_precision_score(y_valid, scores)\n",
    "\n",
    "    print('Recall={0:0.1f}'.format(recall),'\\nPrecision={0:0.1f}'.format(precision))\n",
    "    print('F1={0:0.1f}'.format(F1))\n",
    "    print('Average precision-recall score: {0:0.1f}'.format(average_precision))"
   ]
  },
  {
   "cell_type": "markdown",
   "metadata": {},
   "source": [
    "### 3.3 Imbalanced Binary Classification Task Models\n",
    "\n",
    "We train classification models, including Logistic Regression(baseline), **Random Forest, XGBoost**, and Multi Layer Perceptron. \n",
    "\n",
    "#### Why focus on  tree ensemble methods ?  \n",
    "We focus on tree ensemble methods because they are **scalable**, which can handle sparse data (e.g. one-hot encoding categorical feaures) and learn higher order interaction between features.\n",
    "\n",
    "\n",
    "- **Decision tree algorithms 🌲 🌳 :** Splitting rules force both classes of the features to be addressed. Thus, imbalanced datasets with small ratio of positive samples can also be identified. \n",
    "- **Ensemble models 🌳🌲🌳 🌳🌲 : ** training multiple weak classifiers to form one strong classifier helps reduce errors. \n",
    "   - **Bagging method: ** reduces variance. \n",
    "   - **Boosting method:** reduces bias of the final model. "
   ]
  },
  {
   "cell_type": "markdown",
   "metadata": {},
   "source": [
    "#### 3.3.1 Logistic Regression model (Baseline) combined with SMOTE\n",
    "\n",
    "We choose LR as our baseline since it is more **interpretable** and **faster**. It can also be seen as single level perception with sigmoidal activation function. LR learns the relations between input features and the target feature. However, since prediction depends on the sum of the inputs and parameters (weights), it is necessary to select relevant features and create informatic features. Otherwise, the result of prediction would be worse."
   ]
  },
  {
   "cell_type": "code",
   "execution_count": 10,
   "metadata": {},
   "outputs": [
    {
     "name": "stdout",
     "output_type": "stream",
     "text": [
      "Recall=0.5 \n",
      "Precision=0.0\n",
      "F1=0.0\n",
      "Average precision-recall score: 0.0\n",
      "Non Zero weights: 36\n"
     ]
    }
   ],
   "source": [
    "# valid with score\n",
    "from sklearn.linear_model import LogisticRegression\n",
    "model = LogisticRegression(random_state = 42)\n",
    "\n",
    "# Fit a LR model & SMOTE \n",
    "model.fit(S_X_train, S_y_train) \n",
    "\n",
    "# model predictions\n",
    "LR_SMOTE_predicted = model.predict(X_valid)\n",
    "\n",
    "# Predict_proba will give the only probability of 1\n",
    "scores = model.predict_proba(X_valid)[:,1]\n",
    "metric(model, LR_SMOTE_predicted, scores)\n",
    "print(\"Non Zero weights:\",np.count_nonzero(model.coef_))"
   ]
  },
  {
   "cell_type": "code",
   "execution_count": 11,
   "metadata": {},
   "outputs": [
    {
     "data": {
      "text/plain": [
       "(array([0., 1.]), array([178248, 119887]))"
      ]
     },
     "execution_count": 11,
     "metadata": {},
     "output_type": "execute_result"
    }
   ],
   "source": [
    "# test set with LR_SMOTE_predicted for further evaluating with y_test\n",
    "model = LogisticRegression(random_state = 42)\n",
    "\n",
    "# Fit a LR model & SMOTE \n",
    "model.fit(S_X_train, S_y_train) \n",
    "\n",
    "# model predictions\n",
    "LR_SMOTE_predicted = model.predict(X_test)\n",
    "\n",
    "# count numbers of 1 & 0 \n",
    "unique_elements  = np.unique(LR_SMOTE_predicted, return_counts=True)\n",
    "unique_elements"
   ]
  },
  {
   "cell_type": "markdown",
   "metadata": {},
   "source": [
    "From the result, we can tell LR doesn't perform pretty well. Only 40% of the fraudent transactions were retrieved and it sacrificed too much precision. \n",
    "\n",
    "Our input features are not that informatic to discover fraud. Thus, we need to invest more time on **feature engineering** and check the **feature importance** (This may take times so we move to tree based methods.👇🏼 )"
   ]
  },
  {
   "cell_type": "markdown",
   "metadata": {},
   "source": [
    "#### 3.3.2 Random Forest model combined with SMOTE\n",
    "\n",
    "RF is one of the decision tree algorithms that based on Bagging method. It selects n number of **random subsets of bootstrap samples** and **random sets of m (max_features) number of features**, which decide the best split, and builds n (n_estimators) number of trees. As for these randomness, the bias of the forest do increases, but due to  max voting or averaging of less correlated trees, variance decreases. Resulted in a better model.\n",
    "\n",
    "RF can be expected to outperform LR in our case. It can better handle higher dimensionality data, where one-hot encoding categorical features still be fine. All that said, we don't need careful feature engineering like LR does.\n",
    "\n",
    "#### Optimizing key hyperparameters of a random forest by Grid Search \n",
    "- **n_estimators:** Number of trees we want to build before taking the max voting or averages of predictions.\n",
    "- **max_features:** The number of features to consider when looking for the best split.\n",
    "\n",
    "*NOTE: here, we will not focusing on param tuning due to time consuming  "
   ]
  },
  {
   "cell_type": "code",
   "execution_count": 12,
   "metadata": {},
   "outputs": [
    {
     "name": "stdout",
     "output_type": "stream",
     "text": [
      "Recall=0.8 \n",
      "Precision=0.9\n",
      "F1=0.8\n",
      "Average precision-recall score: 0.8\n"
     ]
    }
   ],
   "source": [
    "# valid with score (without SMOTE)\n",
    "from sklearn.ensemble import RandomForestClassifier\n",
    "from sklearn.model_selection import GridSearchCV\n",
    "\n",
    "# build a classifier\n",
    "RFmodel = RandomForestClassifier(random_state=42)\n",
    "\n",
    "# Fit a RF model & SMOTE \n",
    "RFmodel.fit(X_train, y_train) \n",
    "\n",
    "# model predictions\n",
    "RF_predicted = RFmodel.predict(X_valid)\n",
    "\n",
    "# Predict_proba will give the only probability of 1\n",
    "scores = RFmodel.predict_proba(X_valid)[:,1]\n",
    "metric(RFmodel, RF_predicted, scores)"
   ]
  },
  {
   "cell_type": "code",
   "execution_count": 13,
   "metadata": {},
   "outputs": [
    {
     "data": {
      "text/plain": [
       "(array([0., 1.]), array([295015,   3120]))"
      ]
     },
     "execution_count": 13,
     "metadata": {},
     "output_type": "execute_result"
    }
   ],
   "source": [
    "# test set with RF_predicted for further evaluating with y_test\n",
    "\n",
    "# build a classifier\n",
    "RFmodel = RandomForestClassifier(random_state=42)\n",
    "\n",
    "# Fit a RF model \n",
    "RFmodel.fit(X_train, y_train) \n",
    "\n",
    "# model predictions\n",
    "RF_predicted = RFmodel.predict(X_test)\n",
    "\n",
    "# count numbers of 1 & 0 \n",
    "unique_elements  = np.unique(RF_predicted, return_counts=True)\n",
    "unique_elements"
   ]
  },
  {
   "cell_type": "code",
   "execution_count": 14,
   "metadata": {},
   "outputs": [
    {
     "data": {
      "text/plain": [
       "(298135, 1)"
      ]
     },
     "execution_count": 14,
     "metadata": {},
     "output_type": "execute_result"
    }
   ],
   "source": [
    "RF_predicted = pd.DataFrame(data= RF_predicted, columns=[\"RF_predicted\"])\n",
    "RF_predicted.shape"
   ]
  },
  {
   "cell_type": "code",
   "execution_count": 16,
   "metadata": {},
   "outputs": [
    {
     "data": {
      "text/html": [
       "<div>\n",
       "<style>\n",
       "    .dataframe thead tr:only-child th {\n",
       "        text-align: right;\n",
       "    }\n",
       "\n",
       "    .dataframe thead th {\n",
       "        text-align: left;\n",
       "    }\n",
       "\n",
       "    .dataframe tbody tr th {\n",
       "        vertical-align: top;\n",
       "    }\n",
       "</style>\n",
       "<table border=\"1\" class=\"dataframe\">\n",
       "  <thead>\n",
       "    <tr style=\"text-align: right;\">\n",
       "      <th></th>\n",
       "      <th>importance</th>\n",
       "    </tr>\n",
       "  </thead>\n",
       "  <tbody>\n",
       "    <tr>\n",
       "      <th>normAmount</th>\n",
       "      <td>0.352624</td>\n",
       "    </tr>\n",
       "    <tr>\n",
       "      <th>gender_1</th>\n",
       "      <td>0.130567</td>\n",
       "    </tr>\n",
       "    <tr>\n",
       "      <th>customer_id</th>\n",
       "      <td>0.116490</td>\n",
       "    </tr>\n",
       "    <tr>\n",
       "      <th>fraud_0.0</th>\n",
       "      <td>0.115494</td>\n",
       "    </tr>\n",
       "    <tr>\n",
       "      <th>fraud_1.0</th>\n",
       "      <td>0.112109</td>\n",
       "    </tr>\n",
       "    <tr>\n",
       "      <th>ages_0</th>\n",
       "      <td>0.029976</td>\n",
       "    </tr>\n",
       "    <tr>\n",
       "      <th>age_group</th>\n",
       "      <td>0.029213</td>\n",
       "    </tr>\n",
       "    <tr>\n",
       "      <th>gender_3</th>\n",
       "      <td>0.025688</td>\n",
       "    </tr>\n",
       "    <tr>\n",
       "      <th>embedded_5</th>\n",
       "      <td>0.012058</td>\n",
       "    </tr>\n",
       "    <tr>\n",
       "      <th>gender_2</th>\n",
       "      <td>0.011755</td>\n",
       "    </tr>\n",
       "  </tbody>\n",
       "</table>\n",
       "</div>"
      ],
      "text/plain": [
       "             importance\n",
       "normAmount     0.352624\n",
       "gender_1       0.130567\n",
       "customer_id    0.116490\n",
       "fraud_0.0      0.115494\n",
       "fraud_1.0      0.112109\n",
       "ages_0         0.029976\n",
       "age_group      0.029213\n",
       "gender_3       0.025688\n",
       "embedded_5     0.012058\n",
       "gender_2       0.011755"
      ]
     },
     "execution_count": 16,
     "metadata": {},
     "output_type": "execute_result"
    }
   ],
   "source": [
    "#list(train_new.columns.values)\n",
    "feature_importances = pd.DataFrame(RFmodel.feature_importances_,\n",
    "                                   index = X_train.columns,\n",
    "                                    columns=['importance']).sort_values('importance',\n",
    "                                                                        ascending=False)\n",
    "feature_importances.head(10) "
   ]
  },
  {
   "cell_type": "markdown",
   "metadata": {},
   "source": [
    "From feature importance, we can see that 'amount', 'gender', 'age_group' is related to target feature, which also confirm previous data analysis insight is correct."
   ]
  },
  {
   "cell_type": "code",
   "execution_count": 17,
   "metadata": {},
   "outputs": [
    {
     "name": "stdout",
     "output_type": "stream",
     "text": [
      "Recall=0.9 \n",
      "Precision=0.7\n",
      "F1=0.8\n",
      "Average precision-recall score: 0.8\n"
     ]
    }
   ],
   "source": [
    "# valid with score (add SMOTE)\n",
    "\n",
    "from sklearn.ensemble import RandomForestClassifier\n",
    "from sklearn.model_selection import GridSearchCV\n",
    "\n",
    "# build a classifier\n",
    "RFmodel = RandomForestClassifier(random_state=42)\n",
    "\n",
    "# create param_grid dictionary                            \n",
    "#param_grid = { \n",
    "#    'n_estimators': [200, 500], \n",
    "#    'max_features': ['auto', 'sqrt', 'log2'],\n",
    "#}\n",
    "\n",
    "# Run grid search\n",
    "#RFmodel = GridSearchCV(estimator = RFmodel, param_grid = param_grid, cv= 5)\n",
    "\n",
    "# Fit a RF model & SMOTE \n",
    "RFmodel.fit(S_X_train, S_y_train) \n",
    "\n",
    "# model predictions\n",
    "RF_SMOTE_predicted = RFmodel.predict(X_valid)\n",
    "\n",
    "# Predict_proba will give the only probability of 1\n",
    "scores = RFmodel.predict_proba(X_valid)[:,1]\n",
    "metric(RFmodel, RF_SMOTE_predicted, scores)"
   ]
  },
  {
   "cell_type": "code",
   "execution_count": 18,
   "metadata": {},
   "outputs": [
    {
     "data": {
      "text/plain": [
       "(array([0., 1.]), array([293985,   4150]))"
      ]
     },
     "execution_count": 18,
     "metadata": {},
     "output_type": "execute_result"
    }
   ],
   "source": [
    "# test set with RF_SMOTE_predicted for further evaluating with y_test\n",
    "\n",
    "# build a classifier\n",
    "RFmodel = RandomForestClassifier(random_state=42)\n",
    "\n",
    "# Fit a RF model & SMOTE \n",
    "RFmodel.fit(S_X_train, S_y_train) \n",
    "\n",
    "# model predictions\n",
    "RF_SMOTE_predicted = RFmodel.predict(X_test)\n",
    "\n",
    "# count numbers of 1 & 0 \n",
    "unique_elements  = np.unique(RF_SMOTE_predicted, return_counts=True)\n",
    "unique_elements"
   ]
  },
  {
   "cell_type": "code",
   "execution_count": 19,
   "metadata": {},
   "outputs": [
    {
     "data": {
      "text/plain": [
       "(298135, 1)"
      ]
     },
     "execution_count": 19,
     "metadata": {},
     "output_type": "execute_result"
    }
   ],
   "source": [
    "RF_SMOTE_predicted = pd.DataFrame(data= RF_SMOTE_predicted, columns=[\"RF_SMOTE_predicted\"])\n",
    "RF_SMOTE_predicted.shape"
   ]
  },
  {
   "cell_type": "markdown",
   "metadata": {},
   "source": [
    "🏅 RF may be a 👍 great classifier for fraud detection. It is OK that RF with SMOTE detected more fraudulent transactions than without SMOTE since our goal is to detect all fraudulent transactions. All metrics, Recall, Precision, F1, and average precision-recall score, are in great performance."
   ]
  },
  {
   "cell_type": "markdown",
   "metadata": {},
   "source": [
    "#### 3.3.3 XGBoost model combined with SMOTE\n",
    "\n",
    "We choose XGBoost (extreme Gradient Boosting) as representation for Boosting method. It is an advanced implementation of Gradient Boosting and it is one of the most well performed Boosting method.\n",
    "\n",
    "Boosting is another ensemble method, which learners are learned **sequentially** with prior learners by optimizing the error. However, it also aims at coverting weak learners into stronger learners."
   ]
  },
  {
   "cell_type": "code",
   "execution_count": null,
   "metadata": {
    "collapsed": true
   },
   "outputs": [],
   "source": [
    "# valid with score (add SMOTE)\n",
    "\n",
    "from xgboost import XGBClassifier\n",
    "#from sklearn.model_selection import GridSearchCV\n",
    "\n",
    "# build a classifier\n",
    "xgbmodel = XGBClassifier(random_state = 42)\n",
    "\n",
    "## create param_grid dictionary      \n",
    "#param_grid = {'max_depth': [1,3,5], \n",
    "#             'n_estimators': [100,500,1000], \n",
    "#             'scale_pos_weight': [1, 0.1, 0.01]}\n",
    "\n",
    "\n",
    "## Run grid search\n",
    "#xgbmodel = GridSearchCV(estimator = xgbmodel, \n",
    "#                      param_grid = param_grid,\n",
    "#                      scoring = 'f1', \n",
    "#                      cv = 10, \n",
    "#                      n_jobs = -1,\n",
    "#                      refit = True)\n",
    "\n",
    "#xgbmodel.fit(X_train, y_train)\n",
    "#xgbmodel.best_params_\n",
    "\n",
    "\n",
    "# Fit a xgb model & SMOTE \n",
    "xgbmodel.fit(S_X_train, S_y_train) \n",
    "\n",
    "# model predictions\n",
    "xgb_SMOTE_predicted = xgbmodel.predict(X_valid)\n",
    "\n",
    "\n",
    "# Predict_proba will give the only probability of 1\n",
    "scores = xgbmodel.predict_proba(X_valid)[:,1]\n",
    "metric(xgbmodel, xgb_SMOTE_predicted, scores)"
   ]
  },
  {
   "cell_type": "markdown",
   "metadata": {},
   "source": [
    "Recall=1.0\n",
    "\n",
    "Precision=0.5\n",
    "\n",
    "F1=0.6\n",
    "\n",
    "Average precision-recall score: 0.9"
   ]
  },
  {
   "cell_type": "code",
   "execution_count": null,
   "metadata": {
    "collapsed": true
   },
   "outputs": [],
   "source": [
    "# test set with xgb_SMOTE_predicted for further evaluating with y_test\n",
    "from xgboost import XGBClassifier\n",
    "# build a classifier\n",
    "xgbmodel = XGBClassifier(random_state = 42)\n",
    "\n",
    "# Fit a RF model & SMOTE \n",
    "xgbmodel.fit(S_X_train, S_y_train) \n",
    "\n",
    "# model predictions\n",
    "xgb_SMOTE_predicted = xgbmodel.predict(X_test)\n",
    "\n",
    "# count numbers of 1 & 0 \n",
    "unique_elements  = np.unique(xgb_SMOTE_predicted, return_counts=True)\n",
    "unique_elements #(array([0., 1.]), array([290304,   7831]))"
   ]
  },
  {
   "cell_type": "code",
   "execution_count": null,
   "metadata": {
    "collapsed": true
   },
   "outputs": [],
   "source": [
    "xgb_SMOTE_predicted = pd.DataFrame(data= xgb_SMOTE_predicted, columns=[\"xgb_SMOTE_predicted\"])\n",
    "xgb_SMOTE_predicted.shape #(298135, 1)"
   ]
  },
  {
   "cell_type": "markdown",
   "metadata": {},
   "source": [
    "🎖 From the high ratio of fraud, parameter tuning seems to be a necessary step for XGBoost model. However, the XGBoost model does perfectly retrieve all fraudulent transactions (positive) in valid set, which **recall is 1.0**."
   ]
  },
  {
   "cell_type": "markdown",
   "metadata": {},
   "source": [
    "#### 3.3.4  Multi-layer perceptrons model  combined with SMOTE\n",
    "\n",
    "MLP (multi-layer perceptrons) can use logistic as activation function in the layers, which is our baseline function. However, the tanh or ReLU function tend to work better in practice for the following reasons.\n",
    "\n",
    "** hyperbolic tangent, tanh(𝑥) = 2σ(2𝑥)−1: **\n",
    "- not limited to only positive outputs in the hidden layer(s): since the image is ∈{−1,1}.\n",
    "- has stronger gradients (updates W & b much larger): since its max derivative, 1, is higher than sigmoid's 0.25.\n",
    "\n",
    "** ReLU, 𝑓(𝑥) = max(0,𝑥): **\n",
    "- speeding up training: gradient computation is very simple (either 0 or 1 depending on the sign of 𝑥).\n",
    "\n",
    "** sigmoid (logistic), 𝜎(𝑥) = 1 / (1+𝑒^(−𝑘𝑥)): **\n",
    "- makes more sense in the final layer of a binary classification network  since its image is ∈{0,1}."
   ]
  },
  {
   "cell_type": "code",
   "execution_count": 23,
   "metadata": {},
   "outputs": [
    {
     "name": "stderr",
     "output_type": "stream",
     "text": [
      "Using TensorFlow backend.\n"
     ]
    }
   ],
   "source": [
    "# TensorFlow and tf.keras\n",
    "import tensorflow as tf\n",
    "from tensorflow import keras\n",
    "import pandas as pd\n",
    "import numpy as np\n",
    "import numpy as np\n",
    "from keras.models import Sequential\n",
    "from keras.layers import Dense, Dropout\n",
    "from keras.optimizers import SGD"
   ]
  },
  {
   "cell_type": "code",
   "execution_count": 24,
   "metadata": {},
   "outputs": [
    {
     "name": "stdout",
     "output_type": "stream",
     "text": [
      "Epoch 1/10\n",
      "468862/468862 [==============================] - 6s 12us/step - loss: 7.7779 - acc: 0.5067\n",
      "Epoch 2/10\n",
      "468862/468862 [==============================] - 5s 11us/step - loss: 7.8071 - acc: 0.5093\n",
      "Epoch 3/10\n",
      "468862/468862 [==============================] - 5s 10us/step - loss: 7.7902 - acc: 0.5117\n",
      "Epoch 4/10\n",
      "468862/468862 [==============================] - 5s 10us/step - loss: 7.7779 - acc: 0.5130\n",
      "Epoch 5/10\n",
      "468862/468862 [==============================] - 5s 10us/step - loss: 7.7655 - acc: 0.5140\n",
      "Epoch 6/10\n",
      "468862/468862 [==============================] - 5s 10us/step - loss: 7.7449 - acc: 0.5156\n",
      "Epoch 7/10\n",
      "468862/468862 [==============================] - 5s 10us/step - loss: 7.7502 - acc: 0.5154\n",
      "Epoch 8/10\n",
      "468862/468862 [==============================] - 5s 10us/step - loss: 7.7364 - acc: 0.5164\n",
      "Epoch 9/10\n",
      "468862/468862 [==============================] - 5s 10us/step - loss: 7.9085 - acc: 0.5045\n",
      "Epoch 10/10\n",
      "468862/468862 [==============================] - 5s 10us/step - loss: 7.9712 - acc: 0.5000\n"
     ]
    }
   ],
   "source": [
    "#test with SMOTE\n",
    "\n",
    "# define and fit the model\n",
    "model = Sequential()\n",
    "model.add(Dropout(0.2))\n",
    "model.add(Dense(64, input_dim = 36, activation='relu'))\n",
    "model.add(Dropout(0.2))\n",
    "model.add(Dense(32, activation='relu'))\n",
    "model.add(Dense(1, activation='sigmoid'))\n",
    "\n",
    "sgd = SGD(lr=0.01, momentum=0.8, decay=0.0, nesterov=False)\n",
    "model.compile(loss='binary_crossentropy', optimizer=sgd, metrics=['accuracy'])\n",
    "\n",
    "# train model with SMOTE, 128 samples as a batch \n",
    "model.fit(S_X_train, S_y_train, epochs = 10, batch_size= 128)\n",
    "\n",
    "# make a prediction\n",
    "MLP_predicted = model.predict_proba(X_test)"
   ]
  },
  {
   "cell_type": "code",
   "execution_count": 25,
   "metadata": {},
   "outputs": [
    {
     "data": {
      "text/plain": [
       "1.0    298135\n",
       "Name: MLP_SMOTE_predicted, dtype: int64"
      ]
     },
     "execution_count": 25,
     "metadata": {},
     "output_type": "execute_result"
    }
   ],
   "source": [
    "MLP_SMOTE_predicted = pd.DataFrame(data= MLP_predicted, columns=[\"MLP_SMOTE_predicted\"])\n",
    "MLP_SMOTE_predicted.MLP_SMOTE_predicted.value_counts()"
   ]
  },
  {
   "cell_type": "markdown",
   "metadata": {},
   "source": [
    "MLP model is more like experiment. The better hyperparmeter configuration definitely need to find."
   ]
  },
  {
   "cell_type": "markdown",
   "metadata": {},
   "source": [
    "### Testing file"
   ]
  },
  {
   "cell_type": "code",
   "execution_count": null,
   "metadata": {
    "collapsed": true
   },
   "outputs": [],
   "source": [
    "y_predicted_full_set  = pd.concat([RF_SMOTE_predicted, \n",
    "                                   RF_predicted, \n",
    "                                   xgb_SMOTE_predicted, \n",
    "                                   MLP_SMOTE_predicted,\n",
    "                                   X_testdf], axis=1)\n",
    "\n",
    "y_predicted_full_set.to_csv(\"y_predicted_full_set.csv\")"
   ]
  },
  {
   "cell_type": "markdown",
   "metadata": {},
   "source": [
    "For further experiment, we can also try **outlier detection method, OneClassSVM**. It is also a suitable model for imbalance data. Fraudulent transactions can be looked as 'outlier'. "
   ]
  },
  {
   "cell_type": "markdown",
   "metadata": {},
   "source": [
    "Ok, so done! ✅  👩🏻‍✈️   🚨  🧟‍♂️ "
   ]
  }
 ],
 "metadata": {
  "kernelspec": {
   "display_name": "Python 3",
   "language": "python",
   "name": "python3"
  },
  "language_info": {
   "codemirror_mode": {
    "name": "ipython",
    "version": 3
   },
   "file_extension": ".py",
   "mimetype": "text/x-python",
   "name": "python",
   "nbconvert_exporter": "python",
   "pygments_lexer": "ipython3",
   "version": "3.6.2"
  }
 },
 "nbformat": 4,
 "nbformat_minor": 2
}
